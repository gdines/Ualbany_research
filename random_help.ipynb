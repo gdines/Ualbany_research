{
 "cells": [
  {
   "cell_type": "code",
   "execution_count": null,
   "id": "063cb9c5-b28e-4d62-bd0b-da18231b6a72",
   "metadata": {},
   "outputs": [],
   "source": [
    "#Random Helpful code\n",
    "#Making the actual anomalies back into xarray\n",
    "anom_rt_da = xr.DataArray(data=anom_rt, dims=[\"time\",'latitude','longitude'], \n",
    "                        coords=dict(time=rt_time,latitude=latitude,\n",
    "                        longitude=longitude), attrs=dict(description=\"Temperature Anomaly\", \n",
    "                        units=\"Kelvin\"),)\n",
    "\n",
    "anom_rt_da"
   ]
  }
 ],
 "metadata": {
  "kernelspec": {
   "display_name": "Python 3 August 2021 Environment",
   "language": "python",
   "name": "aug21"
  },
  "language_info": {
   "codemirror_mode": {
    "name": "ipython",
    "version": 3
   },
   "file_extension": ".py",
   "mimetype": "text/x-python",
   "name": "python",
   "nbconvert_exporter": "python",
   "pygments_lexer": "ipython3",
   "version": "3.8.10"
  }
 },
 "nbformat": 4,
 "nbformat_minor": 5
}
