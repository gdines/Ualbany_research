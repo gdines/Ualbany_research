{
 "cells": [
  {
   "cell_type": "code",
   "execution_count": null,
   "id": "43387f94-3add-4631-adf2-149a4662b563",
   "metadata": {},
   "outputs": [],
   "source": [
    "#Plotting Polar Temperature Anomalies"
   ]
  },
  {
   "cell_type": "code",
   "execution_count": 1,
   "id": "094c00d3-d73f-45c8-95dd-956de7e848ef",
   "metadata": {},
   "outputs": [],
   "source": [
    "import xarray as xr\n",
    "import pandas as pd\n",
    "import numpy as np\n",
    "import netCDF4\n",
    "import xesmf as xe\n",
    "from netCDF4 import Dataset\n",
    "from datetime import datetime, date, timedelta\n",
    "import matplotlib.pyplot as plt"
   ]
  },
  {
   "cell_type": "code",
   "execution_count": 2,
   "id": "21511dc2-b0e7-4a4c-abb9-246ecf24daaf",
   "metadata": {},
   "outputs": [],
   "source": [
    "jan_t_ds = xr.open_dataset('/langlab_rit/andrea/ERA5data/era5_202101_t.nc')\n",
    "feb_t_ds = xr.open_dataset('/langlab_rit/andrea/ERA5data/era5_202102_t.nc')\n",
    "ct_rgrd_ds = xr.open_dataset(\"/home11/grad/2021/gd673524/research/gdines/data/realtime/ECMWF/ECMWF_ct_rgrd.nc\")"
   ]
  },
  {
   "cell_type": "code",
   "execution_count": 3,
   "id": "c220a31d-deb7-4ec2-a626-93a4a9b7ca9f",
   "metadata": {},
   "outputs": [],
   "source": [
    "t_ds = xr.concat([jan_t_ds, feb_t_ds], dim='time')"
   ]
  },
  {
   "cell_type": "code",
   "execution_count": 4,
   "id": "26e5c0fd-f07b-4153-bd54-df4cc4bd3acf",
   "metadata": {
    "tags": []
   },
   "outputs": [
    {
     "data": {
      "text/plain": [
       "xESMF Regridder \n",
       "Regridding algorithm:       bilinear \n",
       "Weight filename:            bilinear_401x1440_121x240.nc \n",
       "Reuse pre-computed weights? False \n",
       "Input grid shape:           (401, 1440) \n",
       "Output grid shape:          (121, 240) \n",
       "Periodic in longitude?      False"
      ]
     },
     "execution_count": 4,
     "metadata": {},
     "output_type": "execute_result"
    }
   ],
   "source": [
    "#Regridding ERA5 data using xesmf\n",
    "\n",
    "ds_out = xr.Dataset(\n",
    "    {\n",
    "        \"lon\": ([\"lon\"], np.arange(0, 360, 1.5)),\n",
    "        \"lat\": ([\"lat\"], np.arange(-90, 91.5, 1.5)),\n",
    "    }\n",
    ")\n",
    "\n",
    "regridder = xe.Regridder(t_ds, ds_out, \"bilinear\")\n",
    "regridder"
   ]
  },
  {
   "cell_type": "code",
   "execution_count": 5,
   "id": "7e65fd4a-0bb8-48ed-82c3-055ec75fffd4",
   "metadata": {},
   "outputs": [],
   "source": [
    "t_rgrd = regridder(t_ds)"
   ]
  },
  {
   "cell_type": "code",
   "execution_count": null,
   "id": "fd624a6e-ed9e-4261-bc48-c7024cb8da18",
   "metadata": {
    "tags": []
   },
   "outputs": [],
   "source": [
    "t_rgrd"
   ]
  },
  {
   "cell_type": "code",
   "execution_count": null,
   "id": "e261a07e-3e75-488a-838d-8bbfdde38e28",
   "metadata": {},
   "outputs": [],
   "source": [
    "ct_rgrd_ds"
   ]
  },
  {
   "cell_type": "code",
   "execution_count": null,
   "id": "06b29568-ce70-43ce-ad5a-d14f3dbd3d3a",
   "metadata": {},
   "outputs": [],
   "source": [
    "ct_rgrd_ds.sel(lat = 60).mean(dim='hour').resample(time='1D').mean(dim='time')"
   ]
  },
  {
   "cell_type": "code",
   "execution_count": null,
   "id": "e9ad43c9-8415-4ade-9d67-cf1fecb39e0b",
   "metadata": {},
   "outputs": [],
   "source": [
    "t_ds.sel(latitude=lat, longitude=lon)"
   ]
  },
  {
   "cell_type": "code",
   "execution_count": null,
   "id": "38342af8-be68-4c52-a5e6-2eeb7129755b",
   "metadata": {},
   "outputs": [],
   "source": []
  }
 ],
 "metadata": {
  "kernelspec": {
   "display_name": "Python 3 August 2022 Environment",
   "language": "python",
   "name": "aug22"
  },
  "language_info": {
   "codemirror_mode": {
    "name": "ipython",
    "version": 3
   },
   "file_extension": ".py",
   "mimetype": "text/x-python",
   "name": "python",
   "nbconvert_exporter": "python",
   "pygments_lexer": "ipython3",
   "version": "3.10.5"
  }
 },
 "nbformat": 4,
 "nbformat_minor": 5
}
