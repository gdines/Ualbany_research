{
 "cells": [
  {
   "cell_type": "markdown",
   "id": "faf5fe08-c550-4773-beea-ff5a4609d9da",
   "metadata": {},
   "source": [
    "### This Code uses the percentages calculated in area_anom_fullevent.ipynb and plots them as bar graphs. "
   ]
  },
  {
   "cell_type": "code",
   "execution_count": 1,
   "id": "e45ebd4c-58c9-453e-b513-b307ed1600f1",
   "metadata": {},
   "outputs": [],
   "source": [
    "import datetime as dt\n",
    "import numpy as np\n",
    "import matplotlib as mlp\n",
    "mlp.use('Agg')\n",
    "import matplotlib.pyplot as plt\n",
    "import xarray as xr\n",
    "import math\n",
    "import netCDF4\n",
    "import pandas as pd\n",
    "\n",
    "%matplotlib inline"
   ]
  },
  {
   "cell_type": "code",
   "execution_count": 2,
   "id": "501f4ad4-bfb5-4b5e-8779-170a7f5d91bf",
   "metadata": {},
   "outputs": [],
   "source": [
    "all_per_df = pd.read_csv('/nfs/langlab_rit/gdines/box_proj/percentages/fullevent_percentages_central.csv', #<--fullevent_percentages_central.csv\n",
    "                         names=['Time', 'ECMWF', 'ECCC', 'UKMO', 'CMA', 'JMA', 'CNR', 'HT', 'LT'], index_col=False, skiprows=1)"
   ]
  },
  {
   "cell_type": "code",
   "execution_count": 3,
   "id": "b263687b",
   "metadata": {},
   "outputs": [
    {
     "data": {
      "text/plain": [
       "<Figure size 432x288 with 0 Axes>"
      ]
     },
     "metadata": {},
     "output_type": "display_data"
    }
   ],
   "source": [
    "fig = plt.gcf()"
   ]
  },
  {
   "cell_type": "code",
   "execution_count": 4,
   "id": "da6ed746-80fa-4912-9998-eae93d9e30bd",
   "metadata": {},
   "outputs": [
    {
     "data": {
      "text/html": [
       "<div>\n",
       "<style scoped>\n",
       "    .dataframe tbody tr th:only-of-type {\n",
       "        vertical-align: middle;\n",
       "    }\n",
       "\n",
       "    .dataframe tbody tr th {\n",
       "        vertical-align: top;\n",
       "    }\n",
       "\n",
       "    .dataframe thead th {\n",
       "        text-align: right;\n",
       "    }\n",
       "</style>\n",
       "<table border=\"1\" class=\"dataframe\">\n",
       "  <thead>\n",
       "    <tr style=\"text-align: right;\">\n",
       "      <th></th>\n",
       "      <th>Time</th>\n",
       "      <th>ECMWF</th>\n",
       "      <th>ECCC</th>\n",
       "      <th>UKMO</th>\n",
       "      <th>CMA</th>\n",
       "      <th>JMA</th>\n",
       "      <th>CNR</th>\n",
       "      <th>HT</th>\n",
       "      <th>LT</th>\n",
       "    </tr>\n",
       "  </thead>\n",
       "  <tbody>\n",
       "    <tr>\n",
       "      <th>0</th>\n",
       "      <td>Week 2</td>\n",
       "      <td>27.3077</td>\n",
       "      <td>47.3077</td>\n",
       "      <td>20.8791</td>\n",
       "      <td>23.0769</td>\n",
       "      <td>41.7582</td>\n",
       "      <td>49.0385</td>\n",
       "      <td>29.9817</td>\n",
       "      <td>39.8077</td>\n",
       "    </tr>\n",
       "    <tr>\n",
       "      <th>1</th>\n",
       "      <td>Week 3</td>\n",
       "      <td>18.3077</td>\n",
       "      <td>20.0000</td>\n",
       "      <td>18.3150</td>\n",
       "      <td>3.8462</td>\n",
       "      <td>18.2014</td>\n",
       "      <td>13.6538</td>\n",
       "      <td>18.2777</td>\n",
       "      <td>12.5000</td>\n",
       "    </tr>\n",
       "    <tr>\n",
       "      <th>2</th>\n",
       "      <td>Week 4</td>\n",
       "      <td>15.6923</td>\n",
       "      <td>12.3077</td>\n",
       "      <td>12.8205</td>\n",
       "      <td>14.1026</td>\n",
       "      <td>12.2449</td>\n",
       "      <td>7.8846</td>\n",
       "      <td>13.5859</td>\n",
       "      <td>11.4316</td>\n",
       "    </tr>\n",
       "    <tr>\n",
       "      <th>3</th>\n",
       "      <td>Week 5</td>\n",
       "      <td>18.3846</td>\n",
       "      <td>2.2923</td>\n",
       "      <td>13.5531</td>\n",
       "      <td>15.3846</td>\n",
       "      <td>1.7268</td>\n",
       "      <td>0.9615</td>\n",
       "      <td>11.2215</td>\n",
       "      <td>6.3462</td>\n",
       "    </tr>\n",
       "    <tr>\n",
       "      <th>4</th>\n",
       "      <td>Average</td>\n",
       "      <td>19.9231</td>\n",
       "      <td>20.5769</td>\n",
       "      <td>18.4450</td>\n",
       "      <td>14.1026</td>\n",
       "      <td>18.4851</td>\n",
       "      <td>17.8846</td>\n",
       "      <td>18.9511</td>\n",
       "      <td>17.5214</td>\n",
       "    </tr>\n",
       "  </tbody>\n",
       "</table>\n",
       "</div>"
      ],
      "text/plain": [
       "      Time    ECMWF     ECCC     UKMO      CMA      JMA      CNR       HT  \\\n",
       "0   Week 2  27.3077  47.3077  20.8791  23.0769  41.7582  49.0385  29.9817   \n",
       "1   Week 3  18.3077  20.0000  18.3150   3.8462  18.2014  13.6538  18.2777   \n",
       "2   Week 4  15.6923  12.3077  12.8205  14.1026  12.2449   7.8846  13.5859   \n",
       "3   Week 5  18.3846   2.2923  13.5531  15.3846   1.7268   0.9615  11.2215   \n",
       "4  Average  19.9231  20.5769  18.4450  14.1026  18.4851  17.8846  18.9511   \n",
       "\n",
       "        LT  \n",
       "0  39.8077  \n",
       "1  12.5000  \n",
       "2  11.4316  \n",
       "3   6.3462  \n",
       "4  17.5214  "
      ]
     },
     "execution_count": 4,
     "metadata": {},
     "output_type": "execute_result"
    }
   ],
   "source": [
    "all_per_df"
   ]
  },
  {
   "cell_type": "code",
   "execution_count": 5,
   "id": "44a20e03-9fe3-4fc4-b99e-12b81ea5dac8",
   "metadata": {},
   "outputs": [],
   "source": [
    "week_plot_data = all_per_df[0:4]\n",
    "average_plot_data = all_per_df[4:]"
   ]
  },
  {
   "cell_type": "code",
   "execution_count": 6,
   "id": "2f382c60-6e24-485d-8740-ae6efe2c8870",
   "metadata": {},
   "outputs": [
    {
     "data": {
      "text/html": [
       "<div>\n",
       "<style scoped>\n",
       "    .dataframe tbody tr th:only-of-type {\n",
       "        vertical-align: middle;\n",
       "    }\n",
       "\n",
       "    .dataframe tbody tr th {\n",
       "        vertical-align: top;\n",
       "    }\n",
       "\n",
       "    .dataframe thead th {\n",
       "        text-align: right;\n",
       "    }\n",
       "</style>\n",
       "<table border=\"1\" class=\"dataframe\">\n",
       "  <thead>\n",
       "    <tr style=\"text-align: right;\">\n",
       "      <th></th>\n",
       "      <th>Time</th>\n",
       "      <th>ECMWF</th>\n",
       "      <th>ECCC</th>\n",
       "      <th>UKMO</th>\n",
       "      <th>CMA</th>\n",
       "      <th>JMA</th>\n",
       "      <th>CNR</th>\n",
       "      <th>HT</th>\n",
       "      <th>LT</th>\n",
       "    </tr>\n",
       "  </thead>\n",
       "  <tbody>\n",
       "    <tr>\n",
       "      <th>4</th>\n",
       "      <td>Average</td>\n",
       "      <td>19.9231</td>\n",
       "      <td>20.5769</td>\n",
       "      <td>18.445</td>\n",
       "      <td>14.1026</td>\n",
       "      <td>18.4851</td>\n",
       "      <td>17.8846</td>\n",
       "      <td>18.9511</td>\n",
       "      <td>17.5214</td>\n",
       "    </tr>\n",
       "  </tbody>\n",
       "</table>\n",
       "</div>"
      ],
      "text/plain": [
       "      Time    ECMWF     ECCC    UKMO      CMA      JMA      CNR       HT  \\\n",
       "4  Average  19.9231  20.5769  18.445  14.1026  18.4851  17.8846  18.9511   \n",
       "\n",
       "        LT  \n",
       "4  17.5214  "
      ]
     },
     "execution_count": 6,
     "metadata": {},
     "output_type": "execute_result"
    }
   ],
   "source": [
    "average_plot_data"
   ]
  },
  {
   "cell_type": "code",
   "execution_count": 44,
   "id": "7858fcae-58e3-4280-8b5e-bc6682284ce1",
   "metadata": {},
   "outputs": [
    {
     "data": {
      "image/png": "[encoded data removed]",
      "text/plain": [
       "<Figure size 720x216 with 1 Axes>"
      ]
     },
     "metadata": {
      "needs_background": "light"
     },
     "output_type": "display_data"
    }
   ],
   "source": [
    "ax = week_plot_data.plot.bar(x='Time', y=['ECMWF','UKMO','JMA', 'ECCC','CMA', 'CNR', 'HT', 'LT'], rot=0,\n",
    "                title='Central Region', \n",
    "color=['orchid','purple','indigo','palegoldenrod','yellow', 'gold', 'black', 'gray']) \n",
    "\n",
    "plt.xlabel('Initialization in Weeks from Start of Event') \n",
    "plt.ylabel('Percentages')\n",
    "plt.ylim(0,80)\n",
    "fig = mlp.pyplot.gcf()\n",
    "fig.set_size_inches(10, 3)\n",
    "\n",
    "#plt.savefig(\"%_HT&LT_model_hits_for_initialization.jpg\")"
   ]
  },
  {
   "cell_type": "code",
   "execution_count": 43,
   "id": "d54ee6a6-4828-458f-9f4b-7963bf50c398",
   "metadata": {},
   "outputs": [
    {
     "data": {
      "image/png": "[encoded data removed]",
      "text/plain": [
       "<Figure size 288x216 with 1 Axes>"
      ]
     },
     "metadata": {
      "needs_background": "light"
     },
     "output_type": "display_data"
    }
   ],
   "source": [
    "ax = average_plot_data.plot.bar(x='Time', y=['ECMWF','UKMO', 'JMA', 'ECCC','CMA', 'CNR'], rot=0,\n",
    "                title='Central Region', color=['orchid','purple','indigo','palegoldenrod','yellow', 'gold'])\n",
    "plt.xlabel('') \n",
    "plt.ylabel('Percentages')\n",
    "plt.ylim(0,35)\n",
    "fig = plt.gcf()\n",
    "fig.set_size_inches(4, 3, forward=True)\n",
    "#plt.savefig(\"%_HT&LT_model_hits.jpg\")"
   ]
  },
  {
   "cell_type": "code",
   "execution_count": 41,
   "id": "01851fb3-433a-4cae-b633-c3276362d46d",
   "metadata": {},
   "outputs": [
    {
     "data": {
      "image/png": "[encoded data removed]",
      "text/plain": [
       "<Figure size 288x216 with 1 Axes>"
      ]
     },
     "metadata": {
      "needs_background": "light"
     },
     "output_type": "display_data"
    }
   ],
   "source": [
    "ax = average_plot_data.plot.bar(x='Time', y=['HT', 'LT'], rot=0, title='Central Region', \n",
    "                  color=['purple','gold']) \n",
    "plt.xlabel('') \n",
    "plt.ylabel('Percentages')\n",
    "plt.ylim(0,24)\n",
    "fig = plt.gcf()\n",
    "fig.set_size_inches(4, 3, forward=True)"
   ]
  },
  {
   "cell_type": "code",
   "execution_count": null,
   "id": "b63785e8-acde-4af8-a0eb-2a3a444d3725",
   "metadata": {},
   "outputs": [],
   "source": []
  },
  {
   "cell_type": "code",
   "execution_count": null,
   "id": "8422aaec-d17e-4209-b1c7-4f2542243b4d",
   "metadata": {},
   "outputs": [],
   "source": []
  }
 ],
 "metadata": {
  "kernelspec": {
   "display_name": "Python 3 August 2021 Environment",
   "language": "python",
   "name": "aug21"
  },
  "language_info": {
   "codemirror_mode": {
    "name": "ipython",
    "version": 3
   },
   "file_extension": ".py",
   "mimetype": "text/x-python",
   "name": "python",
   "nbconvert_exporter": "python",
   "pygments_lexer": "ipython3",
   "version": "3.8.10"
  }
 },
 "nbformat": 4,
 "nbformat_minor": 5
}
