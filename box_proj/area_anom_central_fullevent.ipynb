{
 "cells": [
  {
   "cell_type": "markdown",
   "id": "82317bd8-4fca-4a8a-a5d4-b2e940202cb2",
   "metadata": {},
   "source": [
    "### Determining Hit Percentages for the Entire Length of the Feb 2021 CAO"
   ]
  },
  {
   "cell_type": "code",
   "execution_count": 30,
   "id": "b85f38dc-6582-49e0-82f0-86449c81740e",
   "metadata": {},
   "outputs": [],
   "source": [
    "import xarray as xr\n",
    "import pandas as pd\n",
    "import numpy as np\n",
    "import matplotlib as mlp\n",
    "import matplotlib.pyplot as plt\n",
    "from metpy.units import units\n",
    "from metpy import calc as mpcalc\n",
    "import math\n",
    "import netCDF4\n",
    "from netCDF4 import Dataset\n",
    "from datetime import datetime, date, timedelta\n",
    "from itertools import chain"
   ]
  },
  {
   "cell_type": "markdown",
   "id": "66746aa7-c6ba-4db8-a360-440c7f7f6adf",
   "metadata": {},
   "source": [
    "Importing in era-i, era-5, and S2S model data that's been averaged over a lat-lon. All data is at 00Z and 1000hPa"
   ]
  },
  {
   "cell_type": "code",
   "execution_count": 31,
   "id": "eac3635e-17bd-41e0-af08-b8e77aedc9df",
   "metadata": {},
   "outputs": [],
   "source": [
    "#Reading in rd_t Datasets made in ensemble_mean script (odd=hightop, even=lowtop)\n",
    "ct_llmn_ds = xr.open_dataset(\"/home11/grad/2021/gd673524/research/gdines/box_proj/central_region_data/llmn_t/ct_llmn_t.nc\")\n",
    "stdvt_llmn_ds = xr.open_dataset(\"/home11/grad/2021/gd673524/research/gdines/box_proj/central_region_data/llmn_t/stdvt_llmn_t.nc\")\n",
    "rt1_llmn_ds = xr.open_dataset(\"/home11/grad/2021/gd673524/research/gdines/box_proj/central_region_data/llmn_t/realt_jan.nc\")\n",
    "rt2_llmn_ds = xr.open_dataset(\"/home11/grad/2021/gd673524/research/gdines/box_proj/central_region_data/llmn_t/realt_feb.nc\")\n",
    "t_llmn_ds = xr.open_dataset(\"/home11/grad/2021/gd673524/research/gdines/box_proj/central_region_data/llmn_t/ECMWF_llmn_t.nc\")\n",
    "t2_llmn_ds = xr.open_dataset(\"/home11/grad/2021/gd673524/research/gdines/box_proj/central_region_data/llmn_t/ECCC_llmn_t.nc\")\n",
    "t3_llmn_ds = xr.open_dataset(\"/home11/grad/2021/gd673524/research/gdines/box_proj/central_region_data/llmn_t/UKMO_llmn_t.nc\")\n",
    "t4_llmn_ds = xr.open_dataset(\"/home11/grad/2021/gd673524/research/gdines/box_proj/central_region_data/llmn_t/CMA_llmn_t.nc\")\n",
    "t5_llmn_ds = xr.open_dataset(\"/home11/grad/2021/gd673524/research/gdines/box_proj/central_region_data/llmn_t/JMA_llmn_t.nc\")\n",
    "t6_llmn_ds = xr.open_dataset(\"/home11/grad/2021/gd673524/research/gdines/box_proj/central_region_data/llmn_t/CNR_llmn_t.nc\")"
   ]
  },
  {
   "cell_type": "code",
   "execution_count": 32,
   "id": "2b5205b7-32d2-4577-b208-979313c8bdfc",
   "metadata": {},
   "outputs": [],
   "source": [
    "#Joining together the era-5 data in order to have January and February data together in one dataset\n",
    "rt_llmn_ds = xr.concat([rt1_llmn_ds,rt2_llmn_ds], dim='time')"
   ]
  },
  {
   "cell_type": "code",
   "execution_count": 33,
   "id": "7c09435b-adab-41e4-a8cc-dc0c0a408eb6",
   "metadata": {},
   "outputs": [],
   "source": [
    "#Creating variables for the step and date of forecast\n",
    "step = t_llmn_ds.step[\"step.days\"] #<-- days forecasted out (47)\n",
    "fd = t_llmn_ds.date[\"date.dayofyear\"] #<--day of forecast(8)\n",
    "step2 = t2_llmn_ds.step[\"step.days\"] #<-- days forecasted out (32)\n",
    "fd2 = t2_llmn_ds.date[\"date.dayofyear\"] #<--day of forecast(4)\n",
    "step3 = t3_llmn_ds.step[\"step.days\"] \n",
    "fd3 = t3_llmn_ds.date[\"date.dayofyear\"]\n",
    "step4 = t4_llmn_ds.step[\"step.days\"] \n",
    "fd4 = t4_llmn_ds.date[\"date.dayofyear\"]\n",
    "step5 = t5_llmn_ds.step[\"step.days\"] \n",
    "fd5 = t5_llmn_ds.date[\"date.dayofyear\"]\n",
    "step6 = t6_llmn_ds.step[\"step.days\"]\n",
    "fd6 = t6_llmn_ds.date[\"date.dayofyear\"]\n",
    "\n",
    "#Creating time and number variables\n",
    "time = ct_llmn_ds['time']\n",
    "rt_time = rt_llmn_ds.time['time.dayofyear']\n",
    "n1 = t_llmn_ds['number'].to_numpy()\n",
    "n2 = t2_llmn_ds['number'].to_numpy()\n",
    "n3 = t3_llmn_ds['number'].to_numpy()\n",
    "n4 = t4_llmn_ds['number'].to_numpy()\n",
    "n5 = t5_llmn_ds['number'].to_numpy()\n",
    "n6 = t6_llmn_ds['number'].to_numpy()"
   ]
  },
  {
   "cell_type": "code",
   "execution_count": 34,
   "id": "aed4c018-2d8d-4bd7-b079-55cfe0ea9cb5",
   "metadata": {},
   "outputs": [],
   "source": [
    "#Creating data array of forecast day and step\n",
    "doy1 = fd + step\n",
    "doy2 = fd2 + step2\n",
    "doy3 = fd3 + step3\n",
    "doy4 = fd4 + step4\n",
    "doy5 = fd5 + step5\n",
    "doy6 = fd6 + step6"
   ]
  },
  {
   "cell_type": "markdown",
   "id": "88518a54-5032-4a8b-b87a-30c085d254bf",
   "metadata": {},
   "source": [
    "Following cell is making the climo (era-i) data's coordinates match the model data"
   ]
  },
  {
   "cell_type": "code",
   "execution_count": 35,
   "id": "ae196553-eada-4cd6-b1ad-312c43431af5",
   "metadata": {},
   "outputs": [],
   "source": [
    "#Assigning number to climo lat/lon means\n",
    "ct1_match = ct_llmn_ds.assign_coords(number=('number', n1))\n",
    "ct2_match = ct_llmn_ds.assign_coords(number=('number', n2))\n",
    "ct3_match = ct_llmn_ds.assign_coords(number=('number', n3))\n",
    "ct4_match = ct_llmn_ds.assign_coords(number=('number', n4))\n",
    "ct5_match = ct_llmn_ds.assign_coords(number=('number', n5))\n",
    "ct6_match = ct_llmn_ds.assign_coords(number=('number', n6))\n",
    "\n",
    "#Giving climo data forecast days and steps\n",
    "ct1_match = ct1_match.sel(time=doy1)\n",
    "ct2_match = ct2_match.sel(time=doy2)\n",
    "ct3_match = ct3_match.sel(time=doy3)\n",
    "ct4_match = ct4_match.sel(time=doy4)\n",
    "ct5_match = ct5_match.sel(time=doy5)\n",
    "ct6_match = ct6_match.sel(time=doy6)\n",
    "ct_rt_match = ct_llmn_ds.sel(time=rt_time)\n",
    "stdvt_match = stdvt_llmn_ds.sel(time=rt_time)"
   ]
  },
  {
   "cell_type": "markdown",
   "id": "78611557-7bbb-48ae-ab89-6728e9be2601",
   "metadata": {},
   "source": [
    "Calculating the temperature anomalies for the model data and the era-5 data"
   ]
  },
  {
   "cell_type": "code",
   "execution_count": 36,
   "id": "4fe65e1b-9aed-4acb-8fae-16da373b41e7",
   "metadata": {},
   "outputs": [],
   "source": [
    "#Calculating Mean Area Temp Anoms\n",
    "anom_t = t_llmn_ds - ct1_match\n",
    "anom_t2 = t2_llmn_ds - ct2_match\n",
    "anom_t3 = t3_llmn_ds - ct3_match\n",
    "anom_t4 = t4_llmn_ds - ct4_match\n",
    "anom_t5 = t5_llmn_ds - ct5_match\n",
    "anom_t6 = t6_llmn_ds - ct6_match\n",
    "anom_rt = rt_llmn_ds.t.values - ct_rt_match.t.values"
   ]
  },
  {
   "cell_type": "code",
   "execution_count": 70,
   "id": "639cfe46-8e0a-4a4b-ac5d-9fe22af2ede4",
   "metadata": {},
   "outputs": [],
   "source": [
    "#Creating list of dates to plot on Timeseries\n",
    "dates_to_plot=[]\n",
    "for i in anom_rt_ds['time']:\n",
    "    \n",
    "    days = anom_rt_ds.time[i-1] \n",
    "    year = \"2021\"\n",
    "# Initializing start date\n",
    "    strt_date = date(int(year), 1, 1)\n",
    "# converting to date\n",
    "    res_date = strt_date + timedelta(days=int(days) - 1)\n",
    "    res = res_date.strftime(\"%m-%d\")\n",
    "    dates_to_plot.append(res)\n"
   ]
  },
  {
   "cell_type": "code",
   "execution_count": 45,
   "id": "36bbdb6c-19f0-4e51-b8f9-e51058a36111",
   "metadata": {},
   "outputs": [],
   "source": [
    "#Era-5 data is weird so, I'm making the actual anomalies back into xarray\n",
    "anom_rt_ds = xr.DataArray(data=anom_rt, dims=[\"time\"], coords=dict(time=rt_time, date=rt_llmn_ds.time),\n",
    "                        attrs=dict(description=\"Temperature Anomaly\", units=\"Kelvin\"),)"
   ]
  },
  {
   "cell_type": "code",
   "execution_count": 46,
   "id": "9d7fc70c-ab2d-4f65-8262-2bbf5638d38f",
   "metadata": {},
   "outputs": [
    {
     "data": {
      "text/plain": [
       "array(-4.62392496)"
      ]
     },
     "execution_count": 46,
     "metadata": {},
     "output_type": "execute_result"
    }
   ],
   "source": [
    "stdvt_match_plot = -.75* stdvt_match\n",
    "stdvt_match_plot.t[37].values"
   ]
  },
  {
   "cell_type": "markdown",
   "id": "525c9e84-181a-471b-998e-08fdb46c74b3",
   "metadata": {},
   "source": [
    "Below are a couple of plots where I'm just playing with the data."
   ]
  },
  {
   "cell_type": "code",
   "execution_count": 83,
   "id": "3b0516ec-d94b-49c7-94ee-2ad3b6433394",
   "metadata": {
    "tags": []
   },
   "outputs": [
    {
     "data": {
      "image/png": "[encoded data removed]",
      "text/plain": [
       "<Figure size 1000x300 with 1 Axes>"
      ]
     },
     "metadata": {},
     "output_type": "display_data"
    }
   ],
   "source": [
    "#Plotting the actual temperature anomalies\n",
    "plt.plot(dates_to_plot, anom_rt_ds, color='purple', label = 'ERA5 Temperature Anomaly')\n",
    "plt.plot(dates_to_plot, stdvt_match_plot.t, color = 'black', label = 'CAO = -0.75 * $\\sigma$')\n",
    "plt.plot(36.25,stdvt_match_plot.t[36].values, '*', color= 'gold', label = 'Start of CAO', markersize=15)\n",
    "plt.grid(True)\n",
    "plt.title('Central Region')\n",
    "plt.xlabel('Time')\n",
    "plt.ylabel('Temperature Anomalies (K)')\n",
    "plt.legend()\n",
    "fig = mlp.pyplot.gcf()\n",
    "fig.set_size_inches(10, 3)\n",
    "plt.ylim(-25, 15)\n",
    "plt.xticks(rotation=45, ha='right')\n",
    "plt.gca().xaxis.set_major_locator(plt.MaxNLocator(30))"
   ]
  },
  {
   "cell_type": "markdown",
   "id": "3b9c4559-13d0-4c30-8381-3a57e62fb968",
   "metadata": {},
   "source": [
    "### Onset/length of the CAO which was determined to be Feb 7th-19th"
   ]
  },
  {
   "cell_type": "code",
   "execution_count": 11,
   "id": "61ad0ac5-84ec-441d-bb3a-9c6429c569ab",
   "metadata": {
    "tags": []
   },
   "outputs": [
    {
     "data": {
      "text/html": [
       "<div><svg style=\"position: absolute; width: 0; height: 0; overflow: hidden\">\n",
       "<defs>\n",
       "<symbol id=\"icon-database\" viewBox=\"0 0 32 32\">\n",
       "<path d=\"M16 0c-8.837 0-16 2.239-16 5v4c0 2.761 7.163 5 16 5s16-2.239 16-5v-4c0-2.761-7.163-5-16-5z\"></path>\n",
       "<path d=\"M16 17c-8.837 0-16-2.239-16-5v6c0 2.761 7.163 5 16 5s16-2.239 16-5v-6c0 2.761-7.163 5-16 5z\"></path>\n",
       "<path d=\"M16 26c-8.837 0-16-2.239-16-5v6c0 2.761 7.163 5 16 5s16-2.239 16-5v-6c0 2.761-7.163 5-16 5z\"></path>\n",
       "</symbol>\n",
       "<symbol id=\"icon-file-text2\" viewBox=\"0 0 32 32\">\n",
       "<path d=\"M28.681 7.159c-0.694-0.947-1.662-2.053-2.724-3.116s-2.169-2.030-3.116-2.724c-1.612-1.182-2.393-1.319-2.841-1.319h-15.5c-1.378 0-2.5 1.121-2.5 2.5v27c0 1.378 1.122 2.5 2.5 2.5h23c1.378 0 2.5-1.122 2.5-2.5v-19.5c0-0.448-0.137-1.23-1.319-2.841zM24.543 5.457c0.959 0.959 1.712 1.825 2.268 2.543h-4.811v-4.811c0.718 0.556 1.584 1.309 2.543 2.268zM28 29.5c0 0.271-0.229 0.5-0.5 0.5h-23c-0.271 0-0.5-0.229-0.5-0.5v-27c0-0.271 0.229-0.5 0.5-0.5 0 0 15.499-0 15.5 0v7c0 0.552 0.448 1 1 1h7v19.5z\"></path>\n",
       "<path d=\"M23 26h-14c-0.552 0-1-0.448-1-1s0.448-1 1-1h14c0.552 0 1 0.448 1 1s-0.448 1-1 1z\"></path>\n",
       "<path d=\"M23 22h-14c-0.552 0-1-0.448-1-1s0.448-1 1-1h14c0.552 0 1 0.448 1 1s-0.448 1-1 1z\"></path>\n",
       "<path d=\"M23 18h-14c-0.552 0-1-0.448-1-1s0.448-1 1-1h14c0.552 0 1 0.448 1 1s-0.448 1-1 1z\"></path>\n",
       "</symbol>\n",
       "</defs>\n",
       "</svg>\n",
       "<style>/* CSS stylesheet for displaying xarray objects in jupyterlab.\n",
       " *\n",
       " */\n",
       "\n",
       ":root {\n",
       "  --xr-font-color0: var(--jp-content-font-color0, rgba(0, 0, 0, 1));\n",
       "  --xr-font-color2: var(--jp-content-font-color2, rgba(0, 0, 0, 0.54));\n",
       "  --xr-font-color3: var(--jp-content-font-color3, rgba(0, 0, 0, 0.38));\n",
       "  --xr-border-color: var(--jp-border-color2, #e0e0e0);\n",
       "  --xr-disabled-color: var(--jp-layout-color3, #bdbdbd);\n",
       "  --xr-background-color: var(--jp-layout-color0, white);\n",
       "  --xr-background-color-row-even: var(--jp-layout-color1, white);\n",
       "  --xr-background-color-row-odd: var(--jp-layout-color2, #eeeeee);\n",
       "}\n",
       "\n",
       "html[theme=dark],\n",
       "body[data-theme=dark],\n",
       "body.vscode-dark {\n",
       "  --xr-font-color0: rgba(255, 255, 255, 1);\n",
       "  --xr-font-color2: rgba(255, 255, 255, 0.54);\n",
       "  --xr-font-color3: rgba(255, 255, 255, 0.38);\n",
       "  --xr-border-color: #1F1F1F;\n",
       "  --xr-disabled-color: #515151;\n",
       "  --xr-background-color: #111111;\n",
       "  --xr-background-color-row-even: #111111;\n",
       "  --xr-background-color-row-odd: #313131;\n",
       "}\n",
       "\n",
       ".xr-wrap {\n",
       "  display: block !important;\n",
       "  min-width: 300px;\n",
       "  max-width: 700px;\n",
       "}\n",
       "\n",
       ".xr-text-repr-fallback {\n",
       "  /* fallback to plain text repr when CSS is not injected (untrusted notebook) */\n",
       "  display: none;\n",
       "}\n",
       "\n",
       ".xr-header {\n",
       "  padding-top: 6px;\n",
       "  padding-bottom: 6px;\n",
       "  margin-bottom: 4px;\n",
       "  border-bottom: solid 1px var(--xr-border-color);\n",
       "}\n",
       "\n",
       ".xr-header > div,\n",
       ".xr-header > ul {\n",
       "  display: inline;\n",
       "  margin-top: 0;\n",
       "  margin-bottom: 0;\n",
       "}\n",
       "\n",
       ".xr-obj-type,\n",
       ".xr-array-name {\n",
       "  margin-left: 2px;\n",
       "  margin-right: 10px;\n",
       "}\n",
       "\n",
       ".xr-obj-type {\n",
       "  color: var(--xr-font-color2);\n",
       "}\n",
       "\n",
       ".xr-sections {\n",
       "  padding-left: 0 !important;\n",
       "  display: grid;\n",
       "  grid-template-columns: 150px auto auto 1fr 20px 20px;\n",
       "}\n",
       "\n",
       ".xr-section-item {\n",
       "  display: contents;\n",
       "}\n",
       "\n",
       ".xr-section-item input {\n",
       "  display: none;\n",
       "}\n",
       "\n",
       ".xr-section-item input + label {\n",
       "  color: var(--xr-disabled-color);\n",
       "}\n",
       "\n",
       ".xr-section-item input:enabled + label {\n",
       "  cursor: pointer;\n",
       "  color: var(--xr-font-color2);\n",
       "}\n",
       "\n",
       ".xr-section-item input:enabled + label:hover {\n",
       "  color: var(--xr-font-color0);\n",
       "}\n",
       "\n",
       ".xr-section-summary {\n",
       "  grid-column: 1;\n",
       "  color: var(--xr-font-color2);\n",
       "  font-weight: 500;\n",
       "}\n",
       "\n",
       ".xr-section-summary > span {\n",
       "  display: inline-block;\n",
       "  padding-left: 0.5em;\n",
       "}\n",
       "\n",
       ".xr-section-summary-in:disabled + label {\n",
       "  color: var(--xr-font-color2);\n",
       "}\n",
       "\n",
       ".xr-section-summary-in + label:before {\n",
       "  display: inline-block;\n",
       "  content: '►';\n",
       "  font-size: 11px;\n",
       "  width: 15px;\n",
       "  text-align: center;\n",
       "}\n",
       "\n",
       ".xr-section-summary-in:disabled + label:before {\n",
       "  color: var(--xr-disabled-color);\n",
       "}\n",
       "\n",
       ".xr-section-summary-in:checked + label:before {\n",
       "  content: '▼';\n",
       "}\n",
       "\n",
       ".xr-section-summary-in:checked + label > span {\n",
       "  display: none;\n",
       "}\n",
       "\n",
       ".xr-section-summary,\n",
       ".xr-section-inline-details {\n",
       "  padding-top: 4px;\n",
       "  padding-bottom: 4px;\n",
       "}\n",
       "\n",
       ".xr-section-inline-details {\n",
       "  grid-column: 2 / -1;\n",
       "}\n",
       "\n",
       ".xr-section-details {\n",
       "  display: none;\n",
       "  grid-column: 1 / -1;\n",
       "  margin-bottom: 5px;\n",
       "}\n",
       "\n",
       ".xr-section-summary-in:checked ~ .xr-section-details {\n",
       "  display: contents;\n",
       "}\n",
       "\n",
       ".xr-array-wrap {\n",
       "  grid-column: 1 / -1;\n",
       "  display: grid;\n",
       "  grid-template-columns: 20px auto;\n",
       "}\n",
       "\n",
       ".xr-array-wrap > label {\n",
       "  grid-column: 1;\n",
       "  vertical-align: top;\n",
       "}\n",
       "\n",
       ".xr-preview {\n",
       "  color: var(--xr-font-color3);\n",
       "}\n",
       "\n",
       ".xr-array-preview,\n",
       ".xr-array-data {\n",
       "  padding: 0 5px !important;\n",
       "  grid-column: 2;\n",
       "}\n",
       "\n",
       ".xr-array-data,\n",
       ".xr-array-in:checked ~ .xr-array-preview {\n",
       "  display: none;\n",
       "}\n",
       "\n",
       ".xr-array-in:checked ~ .xr-array-data,\n",
       ".xr-array-preview {\n",
       "  display: inline-block;\n",
       "}\n",
       "\n",
       ".xr-dim-list {\n",
       "  display: inline-block !important;\n",
       "  list-style: none;\n",
       "  padding: 0 !important;\n",
       "  margin: 0;\n",
       "}\n",
       "\n",
       ".xr-dim-list li {\n",
       "  display: inline-block;\n",
       "  padding: 0;\n",
       "  margin: 0;\n",
       "}\n",
       "\n",
       ".xr-dim-list:before {\n",
       "  content: '(';\n",
       "}\n",
       "\n",
       ".xr-dim-list:after {\n",
       "  content: ')';\n",
       "}\n",
       "\n",
       ".xr-dim-list li:not(:last-child):after {\n",
       "  content: ',';\n",
       "  padding-right: 5px;\n",
       "}\n",
       "\n",
       ".xr-has-index {\n",
       "  font-weight: bold;\n",
       "}\n",
       "\n",
       ".xr-var-list,\n",
       ".xr-var-item {\n",
       "  display: contents;\n",
       "}\n",
       "\n",
       ".xr-var-item > div,\n",
       ".xr-var-item label,\n",
       ".xr-var-item > .xr-var-name span {\n",
       "  background-color: var(--xr-background-color-row-even);\n",
       "  margin-bottom: 0;\n",
       "}\n",
       "\n",
       ".xr-var-item > .xr-var-name:hover span {\n",
       "  padding-right: 5px;\n",
       "}\n",
       "\n",
       ".xr-var-list > li:nth-child(odd) > div,\n",
       ".xr-var-list > li:nth-child(odd) > label,\n",
       ".xr-var-list > li:nth-child(odd) > .xr-var-name span {\n",
       "  background-color: var(--xr-background-color-row-odd);\n",
       "}\n",
       "\n",
       ".xr-var-name {\n",
       "  grid-column: 1;\n",
       "}\n",
       "\n",
       ".xr-var-dims {\n",
       "  grid-column: 2;\n",
       "}\n",
       "\n",
       ".xr-var-dtype {\n",
       "  grid-column: 3;\n",
       "  text-align: right;\n",
       "  color: var(--xr-font-color2);\n",
       "}\n",
       "\n",
       ".xr-var-preview {\n",
       "  grid-column: 4;\n",
       "}\n",
       "\n",
       ".xr-var-name,\n",
       ".xr-var-dims,\n",
       ".xr-var-dtype,\n",
       ".xr-preview,\n",
       ".xr-attrs dt {\n",
       "  white-space: nowrap;\n",
       "  overflow: hidden;\n",
       "  text-overflow: ellipsis;\n",
       "  padding-right: 10px;\n",
       "}\n",
       "\n",
       ".xr-var-name:hover,\n",
       ".xr-var-dims:hover,\n",
       ".xr-var-dtype:hover,\n",
       ".xr-attrs dt:hover {\n",
       "  overflow: visible;\n",
       "  width: auto;\n",
       "  z-index: 1;\n",
       "}\n",
       "\n",
       ".xr-var-attrs,\n",
       ".xr-var-data {\n",
       "  display: none;\n",
       "  background-color: var(--xr-background-color) !important;\n",
       "  padding-bottom: 5px !important;\n",
       "}\n",
       "\n",
       ".xr-var-attrs-in:checked ~ .xr-var-attrs,\n",
       ".xr-var-data-in:checked ~ .xr-var-data {\n",
       "  display: block;\n",
       "}\n",
       "\n",
       ".xr-var-data > table {\n",
       "  float: right;\n",
       "}\n",
       "\n",
       ".xr-var-name span,\n",
       ".xr-var-data,\n",
       ".xr-attrs {\n",
       "  padding-left: 25px !important;\n",
       "}\n",
       "\n",
       ".xr-attrs,\n",
       ".xr-var-attrs,\n",
       ".xr-var-data {\n",
       "  grid-column: 1 / -1;\n",
       "}\n",
       "\n",
       "dl.xr-attrs {\n",
       "  padding: 0;\n",
       "  margin: 0;\n",
       "  display: grid;\n",
       "  grid-template-columns: 125px auto;\n",
       "}\n",
       "\n",
       ".xr-attrs dt,\n",
       ".xr-attrs dd {\n",
       "  padding: 0;\n",
       "  margin: 0;\n",
       "  float: left;\n",
       "  padding-right: 10px;\n",
       "  width: auto;\n",
       "}\n",
       "\n",
       ".xr-attrs dt {\n",
       "  font-weight: normal;\n",
       "  grid-column: 1;\n",
       "}\n",
       "\n",
       ".xr-attrs dt:hover span {\n",
       "  display: inline-block;\n",
       "  background: var(--xr-background-color);\n",
       "  padding-right: 10px;\n",
       "}\n",
       "\n",
       ".xr-attrs dd {\n",
       "  grid-column: 2;\n",
       "  white-space: pre-wrap;\n",
       "  word-break: break-all;\n",
       "}\n",
       "\n",
       ".xr-icon-database,\n",
       ".xr-icon-file-text2 {\n",
       "  display: inline-block;\n",
       "  vertical-align: middle;\n",
       "  width: 1em;\n",
       "  height: 1.5em !important;\n",
       "  stroke-width: 0;\n",
       "  stroke: currentColor;\n",
       "  fill: currentColor;\n",
       "}\n",
       "</style><pre class='xr-text-repr-fallback'>&lt;xarray.Dataset&gt;\n",
       "Dimensions:  (time: 59)\n",
       "Coordinates:\n",
       "  * time     (time) float64 1.0 2.0 3.0 4.0 5.0 6.0 ... 55.0 56.0 57.0 58.0 59.0\n",
       "    hour     float64 0.0\n",
       "    lev      int32 1000\n",
       "    level    int32 1000\n",
       "Data variables:\n",
       "    t        (time) bool False False False False ... False False False False</pre><div class='xr-wrap' style='display:none'><div class='xr-header'><div class='xr-obj-type'>xarray.Dataset</div></div><ul class='xr-sections'><li class='xr-section-item'><input id='section-ca07a4c7-f7fc-40ca-83d5-3782ead1b388' class='xr-section-summary-in' type='checkbox' disabled ><label for='section-ca07a4c7-f7fc-40ca-83d5-3782ead1b388' class='xr-section-summary'  title='Expand/collapse section'>Dimensions:</label><div class='xr-section-inline-details'><ul class='xr-dim-list'><li><span class='xr-has-index'>time</span>: 59</li></ul></div><div class='xr-section-details'></div></li><li class='xr-section-item'><input id='section-78b5e8d4-beef-41f1-846a-095a9baabdd2' class='xr-section-summary-in' type='checkbox'  checked><label for='section-78b5e8d4-beef-41f1-846a-095a9baabdd2' class='xr-section-summary' >Coordinates: <span>(4)</span></label><div class='xr-section-inline-details'></div><div class='xr-section-details'><ul class='xr-var-list'><li class='xr-var-item'><div class='xr-var-name'><span class='xr-has-index'>time</span></div><div class='xr-var-dims'>(time)</div><div class='xr-var-dtype'>float64</div><div class='xr-var-preview xr-preview'>1.0 2.0 3.0 4.0 ... 57.0 58.0 59.0</div><input id='attrs-93aa70f7-1689-422f-ae85-bf425ed9a3e7' class='xr-var-attrs-in' type='checkbox' ><label for='attrs-93aa70f7-1689-422f-ae85-bf425ed9a3e7' title='Show/Hide attributes'><svg class='icon xr-icon-file-text2'><use xlink:href='#icon-file-text2'></use></svg></label><input id='data-8e5d7701-ad53-4835-8ffc-1c862bc94ad7' class='xr-var-data-in' type='checkbox'><label for='data-8e5d7701-ad53-4835-8ffc-1c862bc94ad7' title='Show/Hide data repr'><svg class='icon xr-icon-database'><use xlink:href='#icon-database'></use></svg></label><div class='xr-var-attrs'><dl class='xr-attrs'><dt><span>comments :</span></dt><dd>366 days for leap year</dd><dt><span>units :</span></dt><dd>366_day</dd></dl></div><div class='xr-var-data'><pre>array([ 1.,  2.,  3.,  4.,  5.,  6.,  7.,  8.,  9., 10., 11., 12., 13., 14.,\n",
       "       15., 16., 17., 18., 19., 20., 21., 22., 23., 24., 25., 26., 27., 28.,\n",
       "       29., 30., 31., 32., 33., 34., 35., 36., 37., 38., 39., 40., 41., 42.,\n",
       "       43., 44., 45., 46., 47., 48., 49., 50., 51., 52., 53., 54., 55., 56.,\n",
       "       57., 58., 59.])</pre></div></li><li class='xr-var-item'><div class='xr-var-name'><span>hour</span></div><div class='xr-var-dims'>()</div><div class='xr-var-dtype'>float64</div><div class='xr-var-preview xr-preview'>...</div><input id='attrs-e0d4117f-b229-4253-ba02-91d4f3085ed4' class='xr-var-attrs-in' type='checkbox' ><label for='attrs-e0d4117f-b229-4253-ba02-91d4f3085ed4' title='Show/Hide attributes'><svg class='icon xr-icon-file-text2'><use xlink:href='#icon-file-text2'></use></svg></label><input id='data-c1752f72-dac9-47ac-95a0-6ee4f5dd7a9b' class='xr-var-data-in' type='checkbox'><label for='data-c1752f72-dac9-47ac-95a0-6ee4f5dd7a9b' title='Show/Hide data repr'><svg class='icon xr-icon-database'><use xlink:href='#icon-database'></use></svg></label><div class='xr-var-attrs'><dl class='xr-attrs'><dt><span>units :</span></dt><dd>UTC</dd></dl></div><div class='xr-var-data'><pre>array(0.)</pre></div></li><li class='xr-var-item'><div class='xr-var-name'><span>lev</span></div><div class='xr-var-dims'>()</div><div class='xr-var-dtype'>int32</div><div class='xr-var-preview xr-preview'>...</div><input id='attrs-6402a75e-91a2-46fa-98b9-4e71946da6e3' class='xr-var-attrs-in' type='checkbox' ><label for='attrs-6402a75e-91a2-46fa-98b9-4e71946da6e3' title='Show/Hide attributes'><svg class='icon xr-icon-file-text2'><use xlink:href='#icon-file-text2'></use></svg></label><input id='data-3f420291-6cb8-4749-befc-a6933341ba5e' class='xr-var-data-in' type='checkbox'><label for='data-3f420291-6cb8-4749-befc-a6933341ba5e' title='Show/Hide data repr'><svg class='icon xr-icon-database'><use xlink:href='#icon-database'></use></svg></label><div class='xr-var-attrs'><dl class='xr-attrs'><dt><span>long_name :</span></dt><dd>isobaric level</dd><dt><span>units :</span></dt><dd>hPa</dd></dl></div><div class='xr-var-data'><pre>array(1000, dtype=int32)</pre></div></li><li class='xr-var-item'><div class='xr-var-name'><span>level</span></div><div class='xr-var-dims'>()</div><div class='xr-var-dtype'>int32</div><div class='xr-var-preview xr-preview'>1000</div><input id='attrs-8644219f-b0ff-4c5a-95e6-6cb8515ee49a' class='xr-var-attrs-in' type='checkbox' ><label for='attrs-8644219f-b0ff-4c5a-95e6-6cb8515ee49a' title='Show/Hide attributes'><svg class='icon xr-icon-file-text2'><use xlink:href='#icon-file-text2'></use></svg></label><input id='data-fcf52778-c546-4c46-a40e-59fbd2ef5d9b' class='xr-var-data-in' type='checkbox'><label for='data-fcf52778-c546-4c46-a40e-59fbd2ef5d9b' title='Show/Hide data repr'><svg class='icon xr-icon-database'><use xlink:href='#icon-database'></use></svg></label><div class='xr-var-attrs'><dl class='xr-attrs'><dt><span>units :</span></dt><dd>millibars</dd><dt><span>long_name :</span></dt><dd>pressure_level</dd></dl></div><div class='xr-var-data'><pre>array(1000, dtype=int32)</pre></div></li></ul></div></li><li class='xr-section-item'><input id='section-9382a7aa-7b41-4e3b-b0aa-fe63181a733a' class='xr-section-summary-in' type='checkbox'  checked><label for='section-9382a7aa-7b41-4e3b-b0aa-fe63181a733a' class='xr-section-summary' >Data variables: <span>(1)</span></label><div class='xr-section-inline-details'></div><div class='xr-section-details'><ul class='xr-var-list'><li class='xr-var-item'><div class='xr-var-name'><span>t</span></div><div class='xr-var-dims'>(time)</div><div class='xr-var-dtype'>bool</div><div class='xr-var-preview xr-preview'>False False False ... False False</div><input id='attrs-f073d060-1f83-48f9-b132-e0a82463799c' class='xr-var-attrs-in' type='checkbox' disabled><label for='attrs-f073d060-1f83-48f9-b132-e0a82463799c' title='Show/Hide attributes'><svg class='icon xr-icon-file-text2'><use xlink:href='#icon-file-text2'></use></svg></label><input id='data-8a5ec11e-17d8-4c28-9360-e29b50b4980a' class='xr-var-data-in' type='checkbox'><label for='data-8a5ec11e-17d8-4c28-9360-e29b50b4980a' title='Show/Hide data repr'><svg class='icon xr-icon-database'><use xlink:href='#icon-database'></use></svg></label><div class='xr-var-attrs'><dl class='xr-attrs'></dl></div><div class='xr-var-data'><pre>array([False, False, False, False, False, False, False, False, False,\n",
       "       False, False, False, False, False, False, False, False, False,\n",
       "       False, False, False, False, False, False, False, False,  True,\n",
       "        True, False, False, False, False, False, False, False, False,\n",
       "       False,  True,  True,  True,  True,  True,  True,  True,  True,\n",
       "        True,  True,  True,  True,  True, False, False, False, False,\n",
       "       False, False, False, False, False])</pre></div></li></ul></div></li><li class='xr-section-item'><input id='section-10250c9d-f16a-47ad-9e04-b9a906f0ebd7' class='xr-section-summary-in' type='checkbox' disabled ><label for='section-10250c9d-f16a-47ad-9e04-b9a906f0ebd7' class='xr-section-summary'  title='Expand/collapse section'>Attributes: <span>(0)</span></label><div class='xr-section-inline-details'></div><div class='xr-section-details'><dl class='xr-attrs'></dl></div></li></ul></div></div>"
      ],
      "text/plain": [
       "<xarray.Dataset>\n",
       "Dimensions:  (time: 59)\n",
       "Coordinates:\n",
       "  * time     (time) float64 1.0 2.0 3.0 4.0 5.0 6.0 ... 55.0 56.0 57.0 58.0 59.0\n",
       "    hour     float64 ...\n",
       "    lev      int32 ...\n",
       "    level    int32 1000\n",
       "Data variables:\n",
       "    t        (time) bool False False False False ... False False False False"
      ]
     },
     "execution_count": 11,
     "metadata": {},
     "output_type": "execute_result"
    }
   ],
   "source": [
    "time_of_CAO = anom_rt_ds < -.75* stdvt_match\n",
    "time_of_CAO"
   ]
  },
  {
   "cell_type": "markdown",
   "id": "a06a97c5-7165-4432-897a-d95034ca8113",
   "metadata": {},
   "source": [
    "Creating date variable in order to select the day I want (February 7th)"
   ]
  },
  {
   "cell_type": "code",
   "execution_count": 12,
   "id": "0d6becd4-ee81-4ec9-a23d-74ee02ad6617",
   "metadata": {},
   "outputs": [
    {
     "data": {
      "text/plain": [
       "'2021-02-07 00:00:00:000000'"
      ]
     },
     "execution_count": 12,
     "metadata": {},
     "output_type": "execute_result"
    }
   ],
   "source": [
    "dateyouwant = datetime(2021, 2, 7, 0, 0, 0)\n",
    "dateyouwant.strftime(\"%Y-%m-%d %H:%M:%S:%f\")"
   ]
  },
  {
   "cell_type": "code",
   "execution_count": 26,
   "id": "7e1b8a7b-7c2e-4d29-905d-af64080c29b0",
   "metadata": {
    "tags": []
   },
   "outputs": [],
   "source": [
    "dayiwant=anom_t['date'][0] + anom_t['step'][34]\n",
    "dayiwant_jma=anom_t5['date'][0] + anom_t5['step'][32] "
   ]
  },
  {
   "cell_type": "code",
   "execution_count": 27,
   "id": "44134426-ec03-472b-abec-ab90bac2b76c",
   "metadata": {},
   "outputs": [
    {
     "data": {
      "text/html": [
       "<div><svg style=\"position: absolute; width: 0; height: 0; overflow: hidden\">\n",
       "<defs>\n",
       "<symbol id=\"icon-database\" viewBox=\"0 0 32 32\">\n",
       "<path d=\"M16 0c-8.837 0-16 2.239-16 5v4c0 2.761 7.163 5 16 5s16-2.239 16-5v-4c0-2.761-7.163-5-16-5z\"></path>\n",
       "<path d=\"M16 17c-8.837 0-16-2.239-16-5v6c0 2.761 7.163 5 16 5s16-2.239 16-5v-6c0 2.761-7.163 5-16 5z\"></path>\n",
       "<path d=\"M16 26c-8.837 0-16-2.239-16-5v6c0 2.761 7.163 5 16 5s16-2.239 16-5v-6c0 2.761-7.163 5-16 5z\"></path>\n",
       "</symbol>\n",
       "<symbol id=\"icon-file-text2\" viewBox=\"0 0 32 32\">\n",
       "<path d=\"M28.681 7.159c-0.694-0.947-1.662-2.053-2.724-3.116s-2.169-2.030-3.116-2.724c-1.612-1.182-2.393-1.319-2.841-1.319h-15.5c-1.378 0-2.5 1.121-2.5 2.5v27c0 1.378 1.122 2.5 2.5 2.5h23c1.378 0 2.5-1.122 2.5-2.5v-19.5c0-0.448-0.137-1.23-1.319-2.841zM24.543 5.457c0.959 0.959 1.712 1.825 2.268 2.543h-4.811v-4.811c0.718 0.556 1.584 1.309 2.543 2.268zM28 29.5c0 0.271-0.229 0.5-0.5 0.5h-23c-0.271 0-0.5-0.229-0.5-0.5v-27c0-0.271 0.229-0.5 0.5-0.5 0 0 15.499-0 15.5 0v7c0 0.552 0.448 1 1 1h7v19.5z\"></path>\n",
       "<path d=\"M23 26h-14c-0.552 0-1-0.448-1-1s0.448-1 1-1h14c0.552 0 1 0.448 1 1s-0.448 1-1 1z\"></path>\n",
       "<path d=\"M23 22h-14c-0.552 0-1-0.448-1-1s0.448-1 1-1h14c0.552 0 1 0.448 1 1s-0.448 1-1 1z\"></path>\n",
       "<path d=\"M23 18h-14c-0.552 0-1-0.448-1-1s0.448-1 1-1h14c0.552 0 1 0.448 1 1s-0.448 1-1 1z\"></path>\n",
       "</symbol>\n",
       "</defs>\n",
       "</svg>\n",
       "<style>/* CSS stylesheet for displaying xarray objects in jupyterlab.\n",
       " *\n",
       " */\n",
       "\n",
       ":root {\n",
       "  --xr-font-color0: var(--jp-content-font-color0, rgba(0, 0, 0, 1));\n",
       "  --xr-font-color2: var(--jp-content-font-color2, rgba(0, 0, 0, 0.54));\n",
       "  --xr-font-color3: var(--jp-content-font-color3, rgba(0, 0, 0, 0.38));\n",
       "  --xr-border-color: var(--jp-border-color2, #e0e0e0);\n",
       "  --xr-disabled-color: var(--jp-layout-color3, #bdbdbd);\n",
       "  --xr-background-color: var(--jp-layout-color0, white);\n",
       "  --xr-background-color-row-even: var(--jp-layout-color1, white);\n",
       "  --xr-background-color-row-odd: var(--jp-layout-color2, #eeeeee);\n",
       "}\n",
       "\n",
       "html[theme=dark],\n",
       "body[data-theme=dark],\n",
       "body.vscode-dark {\n",
       "  --xr-font-color0: rgba(255, 255, 255, 1);\n",
       "  --xr-font-color2: rgba(255, 255, 255, 0.54);\n",
       "  --xr-font-color3: rgba(255, 255, 255, 0.38);\n",
       "  --xr-border-color: #1F1F1F;\n",
       "  --xr-disabled-color: #515151;\n",
       "  --xr-background-color: #111111;\n",
       "  --xr-background-color-row-even: #111111;\n",
       "  --xr-background-color-row-odd: #313131;\n",
       "}\n",
       "\n",
       ".xr-wrap {\n",
       "  display: block !important;\n",
       "  min-width: 300px;\n",
       "  max-width: 700px;\n",
       "}\n",
       "\n",
       ".xr-text-repr-fallback {\n",
       "  /* fallback to plain text repr when CSS is not injected (untrusted notebook) */\n",
       "  display: none;\n",
       "}\n",
       "\n",
       ".xr-header {\n",
       "  padding-top: 6px;\n",
       "  padding-bottom: 6px;\n",
       "  margin-bottom: 4px;\n",
       "  border-bottom: solid 1px var(--xr-border-color);\n",
       "}\n",
       "\n",
       ".xr-header > div,\n",
       ".xr-header > ul {\n",
       "  display: inline;\n",
       "  margin-top: 0;\n",
       "  margin-bottom: 0;\n",
       "}\n",
       "\n",
       ".xr-obj-type,\n",
       ".xr-array-name {\n",
       "  margin-left: 2px;\n",
       "  margin-right: 10px;\n",
       "}\n",
       "\n",
       ".xr-obj-type {\n",
       "  color: var(--xr-font-color2);\n",
       "}\n",
       "\n",
       ".xr-sections {\n",
       "  padding-left: 0 !important;\n",
       "  display: grid;\n",
       "  grid-template-columns: 150px auto auto 1fr 20px 20px;\n",
       "}\n",
       "\n",
       ".xr-section-item {\n",
       "  display: contents;\n",
       "}\n",
       "\n",
       ".xr-section-item input {\n",
       "  display: none;\n",
       "}\n",
       "\n",
       ".xr-section-item input + label {\n",
       "  color: var(--xr-disabled-color);\n",
       "}\n",
       "\n",
       ".xr-section-item input:enabled + label {\n",
       "  cursor: pointer;\n",
       "  color: var(--xr-font-color2);\n",
       "}\n",
       "\n",
       ".xr-section-item input:enabled + label:hover {\n",
       "  color: var(--xr-font-color0);\n",
       "}\n",
       "\n",
       ".xr-section-summary {\n",
       "  grid-column: 1;\n",
       "  color: var(--xr-font-color2);\n",
       "  font-weight: 500;\n",
       "}\n",
       "\n",
       ".xr-section-summary > span {\n",
       "  display: inline-block;\n",
       "  padding-left: 0.5em;\n",
       "}\n",
       "\n",
       ".xr-section-summary-in:disabled + label {\n",
       "  color: var(--xr-font-color2);\n",
       "}\n",
       "\n",
       ".xr-section-summary-in + label:before {\n",
       "  display: inline-block;\n",
       "  content: '►';\n",
       "  font-size: 11px;\n",
       "  width: 15px;\n",
       "  text-align: center;\n",
       "}\n",
       "\n",
       ".xr-section-summary-in:disabled + label:before {\n",
       "  color: var(--xr-disabled-color);\n",
       "}\n",
       "\n",
       ".xr-section-summary-in:checked + label:before {\n",
       "  content: '▼';\n",
       "}\n",
       "\n",
       ".xr-section-summary-in:checked + label > span {\n",
       "  display: none;\n",
       "}\n",
       "\n",
       ".xr-section-summary,\n",
       ".xr-section-inline-details {\n",
       "  padding-top: 4px;\n",
       "  padding-bottom: 4px;\n",
       "}\n",
       "\n",
       ".xr-section-inline-details {\n",
       "  grid-column: 2 / -1;\n",
       "}\n",
       "\n",
       ".xr-section-details {\n",
       "  display: none;\n",
       "  grid-column: 1 / -1;\n",
       "  margin-bottom: 5px;\n",
       "}\n",
       "\n",
       ".xr-section-summary-in:checked ~ .xr-section-details {\n",
       "  display: contents;\n",
       "}\n",
       "\n",
       ".xr-array-wrap {\n",
       "  grid-column: 1 / -1;\n",
       "  display: grid;\n",
       "  grid-template-columns: 20px auto;\n",
       "}\n",
       "\n",
       ".xr-array-wrap > label {\n",
       "  grid-column: 1;\n",
       "  vertical-align: top;\n",
       "}\n",
       "\n",
       ".xr-preview {\n",
       "  color: var(--xr-font-color3);\n",
       "}\n",
       "\n",
       ".xr-array-preview,\n",
       ".xr-array-data {\n",
       "  padding: 0 5px !important;\n",
       "  grid-column: 2;\n",
       "}\n",
       "\n",
       ".xr-array-data,\n",
       ".xr-array-in:checked ~ .xr-array-preview {\n",
       "  display: none;\n",
       "}\n",
       "\n",
       ".xr-array-in:checked ~ .xr-array-data,\n",
       ".xr-array-preview {\n",
       "  display: inline-block;\n",
       "}\n",
       "\n",
       ".xr-dim-list {\n",
       "  display: inline-block !important;\n",
       "  list-style: none;\n",
       "  padding: 0 !important;\n",
       "  margin: 0;\n",
       "}\n",
       "\n",
       ".xr-dim-list li {\n",
       "  display: inline-block;\n",
       "  padding: 0;\n",
       "  margin: 0;\n",
       "}\n",
       "\n",
       ".xr-dim-list:before {\n",
       "  content: '(';\n",
       "}\n",
       "\n",
       ".xr-dim-list:after {\n",
       "  content: ')';\n",
       "}\n",
       "\n",
       ".xr-dim-list li:not(:last-child):after {\n",
       "  content: ',';\n",
       "  padding-right: 5px;\n",
       "}\n",
       "\n",
       ".xr-has-index {\n",
       "  font-weight: bold;\n",
       "}\n",
       "\n",
       ".xr-var-list,\n",
       ".xr-var-item {\n",
       "  display: contents;\n",
       "}\n",
       "\n",
       ".xr-var-item > div,\n",
       ".xr-var-item label,\n",
       ".xr-var-item > .xr-var-name span {\n",
       "  background-color: var(--xr-background-color-row-even);\n",
       "  margin-bottom: 0;\n",
       "}\n",
       "\n",
       ".xr-var-item > .xr-var-name:hover span {\n",
       "  padding-right: 5px;\n",
       "}\n",
       "\n",
       ".xr-var-list > li:nth-child(odd) > div,\n",
       ".xr-var-list > li:nth-child(odd) > label,\n",
       ".xr-var-list > li:nth-child(odd) > .xr-var-name span {\n",
       "  background-color: var(--xr-background-color-row-odd);\n",
       "}\n",
       "\n",
       ".xr-var-name {\n",
       "  grid-column: 1;\n",
       "}\n",
       "\n",
       ".xr-var-dims {\n",
       "  grid-column: 2;\n",
       "}\n",
       "\n",
       ".xr-var-dtype {\n",
       "  grid-column: 3;\n",
       "  text-align: right;\n",
       "  color: var(--xr-font-color2);\n",
       "}\n",
       "\n",
       ".xr-var-preview {\n",
       "  grid-column: 4;\n",
       "}\n",
       "\n",
       ".xr-var-name,\n",
       ".xr-var-dims,\n",
       ".xr-var-dtype,\n",
       ".xr-preview,\n",
       ".xr-attrs dt {\n",
       "  white-space: nowrap;\n",
       "  overflow: hidden;\n",
       "  text-overflow: ellipsis;\n",
       "  padding-right: 10px;\n",
       "}\n",
       "\n",
       ".xr-var-name:hover,\n",
       ".xr-var-dims:hover,\n",
       ".xr-var-dtype:hover,\n",
       ".xr-attrs dt:hover {\n",
       "  overflow: visible;\n",
       "  width: auto;\n",
       "  z-index: 1;\n",
       "}\n",
       "\n",
       ".xr-var-attrs,\n",
       ".xr-var-data {\n",
       "  display: none;\n",
       "  background-color: var(--xr-background-color) !important;\n",
       "  padding-bottom: 5px !important;\n",
       "}\n",
       "\n",
       ".xr-var-attrs-in:checked ~ .xr-var-attrs,\n",
       ".xr-var-data-in:checked ~ .xr-var-data {\n",
       "  display: block;\n",
       "}\n",
       "\n",
       ".xr-var-data > table {\n",
       "  float: right;\n",
       "}\n",
       "\n",
       ".xr-var-name span,\n",
       ".xr-var-data,\n",
       ".xr-attrs {\n",
       "  padding-left: 25px !important;\n",
       "}\n",
       "\n",
       ".xr-attrs,\n",
       ".xr-var-attrs,\n",
       ".xr-var-data {\n",
       "  grid-column: 1 / -1;\n",
       "}\n",
       "\n",
       "dl.xr-attrs {\n",
       "  padding: 0;\n",
       "  margin: 0;\n",
       "  display: grid;\n",
       "  grid-template-columns: 125px auto;\n",
       "}\n",
       "\n",
       ".xr-attrs dt,\n",
       ".xr-attrs dd {\n",
       "  padding: 0;\n",
       "  margin: 0;\n",
       "  float: left;\n",
       "  padding-right: 10px;\n",
       "  width: auto;\n",
       "}\n",
       "\n",
       ".xr-attrs dt {\n",
       "  font-weight: normal;\n",
       "  grid-column: 1;\n",
       "}\n",
       "\n",
       ".xr-attrs dt:hover span {\n",
       "  display: inline-block;\n",
       "  background: var(--xr-background-color);\n",
       "  padding-right: 10px;\n",
       "}\n",
       "\n",
       ".xr-attrs dd {\n",
       "  grid-column: 2;\n",
       "  white-space: pre-wrap;\n",
       "  word-break: break-all;\n",
       "}\n",
       "\n",
       ".xr-icon-database,\n",
       ".xr-icon-file-text2 {\n",
       "  display: inline-block;\n",
       "  vertical-align: middle;\n",
       "  width: 1em;\n",
       "  height: 1.5em !important;\n",
       "  stroke-width: 0;\n",
       "  stroke: currentColor;\n",
       "  fill: currentColor;\n",
       "}\n",
       "</style><pre class='xr-text-repr-fallback'>&lt;xarray.DataArray ()&gt;\n",
       "array(&#x27;2021-02-07T12:00:00.000000000&#x27;, dtype=&#x27;datetime64[ns]&#x27;)\n",
       "Coordinates:\n",
       "    level    int32 1000\n",
       "    date     datetime64[ns] 2021-01-06\n",
       "    hour     float64 0.0\n",
       "    lev      int32 1000\n",
       "    step     timedelta64[ns] 32 days 12:00:00</pre><div class='xr-wrap' style='display:none'><div class='xr-header'><div class='xr-obj-type'>xarray.DataArray</div><div class='xr-array-name'></div></div><ul class='xr-sections'><li class='xr-section-item'><div class='xr-array-wrap'><input id='section-1774c886-472b-4c95-821c-b8e9abfb77d6' class='xr-array-in' type='checkbox' checked><label for='section-1774c886-472b-4c95-821c-b8e9abfb77d6' title='Show/hide data repr'><svg class='icon xr-icon-database'><use xlink:href='#icon-database'></use></svg></label><div class='xr-array-preview xr-preview'><span>2021-02-07T12:00:00</span></div><div class='xr-array-data'><pre>array(&#x27;2021-02-07T12:00:00.000000000&#x27;, dtype=&#x27;datetime64[ns]&#x27;)</pre></div></div></li><li class='xr-section-item'><input id='section-e7631a99-1587-4add-9259-41264e01535b' class='xr-section-summary-in' type='checkbox'  checked><label for='section-e7631a99-1587-4add-9259-41264e01535b' class='xr-section-summary' >Coordinates: <span>(5)</span></label><div class='xr-section-inline-details'></div><div class='xr-section-details'><ul class='xr-var-list'><li class='xr-var-item'><div class='xr-var-name'><span>level</span></div><div class='xr-var-dims'>()</div><div class='xr-var-dtype'>int32</div><div class='xr-var-preview xr-preview'>1000</div><input id='attrs-9f85ed13-01a0-40b0-a5bd-c2c3920766ee' class='xr-var-attrs-in' type='checkbox' ><label for='attrs-9f85ed13-01a0-40b0-a5bd-c2c3920766ee' title='Show/Hide attributes'><svg class='icon xr-icon-file-text2'><use xlink:href='#icon-file-text2'></use></svg></label><input id='data-dd3786be-bc32-447e-a84c-9105096b7317' class='xr-var-data-in' type='checkbox'><label for='data-dd3786be-bc32-447e-a84c-9105096b7317' title='Show/Hide data repr'><svg class='icon xr-icon-database'><use xlink:href='#icon-database'></use></svg></label><div class='xr-var-attrs'><dl class='xr-attrs'><dt><span>units :</span></dt><dd>millibars</dd><dt><span>long_name :</span></dt><dd>pressure_level</dd></dl></div><div class='xr-var-data'><pre>array(1000, dtype=int32)</pre></div></li><li class='xr-var-item'><div class='xr-var-name'><span>date</span></div><div class='xr-var-dims'>()</div><div class='xr-var-dtype'>datetime64[ns]</div><div class='xr-var-preview xr-preview'>2021-01-06</div><input id='attrs-0d068f2a-c52d-4b0b-8f73-685e9fa054a0' class='xr-var-attrs-in' type='checkbox' ><label for='attrs-0d068f2a-c52d-4b0b-8f73-685e9fa054a0' title='Show/Hide attributes'><svg class='icon xr-icon-file-text2'><use xlink:href='#icon-file-text2'></use></svg></label><input id='data-4a7968e4-f379-4b76-b172-90feeac96b41' class='xr-var-data-in' type='checkbox'><label for='data-4a7968e4-f379-4b76-b172-90feeac96b41' title='Show/Hide data repr'><svg class='icon xr-icon-database'><use xlink:href='#icon-database'></use></svg></label><div class='xr-var-attrs'><dl class='xr-attrs'><dt><span>long_name :</span></dt><dd>Base_date</dd></dl></div><div class='xr-var-data'><pre>array(&#x27;2021-01-06T00:00:00.000000000&#x27;, dtype=&#x27;datetime64[ns]&#x27;)</pre></div></li><li class='xr-var-item'><div class='xr-var-name'><span>hour</span></div><div class='xr-var-dims'>()</div><div class='xr-var-dtype'>float64</div><div class='xr-var-preview xr-preview'>0.0</div><input id='attrs-b231e493-42ae-4836-a4f9-578cc3646bfd' class='xr-var-attrs-in' type='checkbox' ><label for='attrs-b231e493-42ae-4836-a4f9-578cc3646bfd' title='Show/Hide attributes'><svg class='icon xr-icon-file-text2'><use xlink:href='#icon-file-text2'></use></svg></label><input id='data-81a8438e-5e0f-4790-b2ce-596f1e67d61e' class='xr-var-data-in' type='checkbox'><label for='data-81a8438e-5e0f-4790-b2ce-596f1e67d61e' title='Show/Hide data repr'><svg class='icon xr-icon-database'><use xlink:href='#icon-database'></use></svg></label><div class='xr-var-attrs'><dl class='xr-attrs'><dt><span>units :</span></dt><dd>UTC</dd></dl></div><div class='xr-var-data'><pre>array(0.)</pre></div></li><li class='xr-var-item'><div class='xr-var-name'><span>lev</span></div><div class='xr-var-dims'>()</div><div class='xr-var-dtype'>int32</div><div class='xr-var-preview xr-preview'>1000</div><input id='attrs-48320eea-f55c-4a29-ae4a-c7af1f5553ca' class='xr-var-attrs-in' type='checkbox' ><label for='attrs-48320eea-f55c-4a29-ae4a-c7af1f5553ca' title='Show/Hide attributes'><svg class='icon xr-icon-file-text2'><use xlink:href='#icon-file-text2'></use></svg></label><input id='data-8ef148fe-f0b3-4e02-9a84-b7313b54ce01' class='xr-var-data-in' type='checkbox'><label for='data-8ef148fe-f0b3-4e02-9a84-b7313b54ce01' title='Show/Hide data repr'><svg class='icon xr-icon-database'><use xlink:href='#icon-database'></use></svg></label><div class='xr-var-attrs'><dl class='xr-attrs'><dt><span>long_name :</span></dt><dd>isobaric level</dd><dt><span>units :</span></dt><dd>hPa</dd></dl></div><div class='xr-var-data'><pre>array(1000, dtype=int32)</pre></div></li><li class='xr-var-item'><div class='xr-var-name'><span>step</span></div><div class='xr-var-dims'>()</div><div class='xr-var-dtype'>timedelta64[ns]</div><div class='xr-var-preview xr-preview'>32 days 12:00:00</div><input id='attrs-18ee88e1-9c96-4b57-ad3b-e77d1660b484' class='xr-var-attrs-in' type='checkbox' ><label for='attrs-18ee88e1-9c96-4b57-ad3b-e77d1660b484' title='Show/Hide attributes'><svg class='icon xr-icon-file-text2'><use xlink:href='#icon-file-text2'></use></svg></label><input id='data-82aceb5b-747a-4892-8fb8-0b089a491e90' class='xr-var-data-in' type='checkbox'><label for='data-82aceb5b-747a-4892-8fb8-0b089a491e90' title='Show/Hide data repr'><svg class='icon xr-icon-database'><use xlink:href='#icon-database'></use></svg></label><div class='xr-var-attrs'><dl class='xr-attrs'><dt><span>long_name :</span></dt><dd>time_step</dd></dl></div><div class='xr-var-data'><pre>array(2808000000000000, dtype=&#x27;timedelta64[ns]&#x27;)</pre></div></li></ul></div></li><li class='xr-section-item'><input id='section-cc4be461-5bd3-405d-89b2-4970dfb6256e' class='xr-section-summary-in' type='checkbox' disabled ><label for='section-cc4be461-5bd3-405d-89b2-4970dfb6256e' class='xr-section-summary'  title='Expand/collapse section'>Attributes: <span>(0)</span></label><div class='xr-section-inline-details'></div><div class='xr-section-details'><dl class='xr-attrs'></dl></div></li></ul></div></div>"
      ],
      "text/plain": [
       "<xarray.DataArray ()>\n",
       "array('2021-02-07T12:00:00.000000000', dtype='datetime64[ns]')\n",
       "Coordinates:\n",
       "    level    int32 1000\n",
       "    date     datetime64[ns] 2021-01-06\n",
       "    hour     float64 0.0\n",
       "    lev      int32 1000\n",
       "    step     timedelta64[ns] 32 days 12:00:00"
      ]
     },
     "execution_count": 27,
     "metadata": {},
     "output_type": "execute_result"
    }
   ],
   "source": [
    "dayiwant_jma"
   ]
  },
  {
   "cell_type": "code",
   "execution_count": 36,
   "id": "e28c9cf9-f1ec-4f67-8f39-33ca154779c3",
   "metadata": {},
   "outputs": [],
   "source": [
    "#This is looping over each of the models in order to determine the date and step needed in \n",
    "# order to get the wanted date (FEB 7th)\n",
    "stp1 = []\n",
    "for ii in anom_t['date']:\n",
    "    for jj in anom_t['step']:\n",
    "        if ii + jj == dayiwant:\n",
    "            ii1 = ii.date.values\n",
    "            jj1 = jj.step.dt.days.values.tolist()\n",
    "            stp1.append(jj1)\n",
    "#            print(f'ECMWF:{ii1}, {jj1}')\n",
    "stp2 = []\n",
    "for ii in anom_t2['date']:\n",
    "    for jj in anom_t2['step']:\n",
    "        if ii + jj == dayiwant:\n",
    "            ii2 = ii.date.values\n",
    "            jj2 = jj.step.dt.days.values.tolist()\n",
    "            stp2.append(jj2)\n",
    "#            print(f'ECCC:{ii2}, {jj2}')\n",
    "stp3 = []            \n",
    "for ii in anom_t3['date']:\n",
    "    for jj in anom_t3['step']:\n",
    "        if ii + jj == dayiwant:\n",
    "            ii3 = ii.date.values\n",
    "            jj3 = jj.step.dt.days.values.tolist()\n",
    "            stp3.append(jj3)\n",
    "#            print(f'UKMO:{ii3}, {jj3}')\n",
    "stp4 = []                        \n",
    "for ii in anom_t4['date']:\n",
    "    for jj in anom_t4['step']:\n",
    "        if ii + jj == dayiwant:\n",
    "            ii4 = ii.date.values\n",
    "            jj4 = jj.step.dt.days.values.tolist()\n",
    "            stp4.append(jj4)\n",
    "#            print(f'CMA:{ii4}, {jj4}')\n",
    "stp5 = []                        \n",
    "for ii in anom_t5['date']:\n",
    "    for jj in anom_t5['step']:\n",
    "        if ii + jj == dayiwant_jma:\n",
    "            ii5 = ii.date.values\n",
    "            jj5 = jj.step.dt.days.values.tolist()\n",
    "            stp5.append(jj5)\n",
    "#            print(f'JMA:{ii5}, {jj5}')\n",
    "stp6 = []            \n",
    "for ii in anom_t6['date']:\n",
    "    for jj in anom_t6['step']:\n",
    "        if ii + jj == dayiwant:\n",
    "            ii6 = ii.date.values\n",
    "            jj6 = jj.step.dt.days.values.tolist()\n",
    "            stp6.append(jj6)\n",
    "#            print(f'CNR:{ii6}, {jj6}')"
   ]
  },
  {
   "cell_type": "markdown",
   "id": "71a31a6c-337c-488d-be49-e64c683221aa",
   "metadata": {},
   "source": [
    "This is a slice for the lenght of the CAO"
   ]
  },
  {
   "cell_type": "code",
   "execution_count": 37,
   "id": "ee420f08-81c0-4d78-a6ab-2ad584639a63",
   "metadata": {},
   "outputs": [],
   "source": [
    "cao_length = slice(\"2021-02-07T00:00:00.000000000\", \"2021-02-19T00:00:00.000000000\")"
   ]
  },
  {
   "cell_type": "markdown",
   "id": "ce8afe6a-635c-4787-89ae-4691aa286c02",
   "metadata": {},
   "source": [
    "Determining the ERA-I Standard Deviation of Temp for length of CAO"
   ]
  },
  {
   "cell_type": "code",
   "execution_count": 38,
   "id": "ca4c8220-83c8-4c2c-acee-5a9d4e52812e",
   "metadata": {},
   "outputs": [],
   "source": [
    "stdv_cao_len = stdvt_match.t.isel(time = slice(37,50))\n",
    "cao_len = stdvt_match.time.isel(time = slice(37,50))"
   ]
  },
  {
   "cell_type": "markdown",
   "id": "7bd3b27e-91d3-4d31-a31e-4bf5ffe8c1bc",
   "metadata": {},
   "source": [
    "The next 6 cells are determining the number of hits for each initialization date of each model."
   ]
  },
  {
   "cell_type": "code",
   "execution_count": 39,
   "id": "f45719c8-cebb-4088-8a20-1f5b1585c126",
   "metadata": {
    "tags": []
   },
   "outputs": [
    {
     "name": "stdout",
     "output_type": "stream",
     "text": [
      "Number of hits:[[9.0, 9.0, 6.0, 7.0, 7.0, 8.0, 6.0, 11.0, 13.0, 10.0, 12.0, 11.0, 14.0], [14.0, 8.0, 11.0, 10.0, 10.0, 10.0, 9.0, 11.0, 6.0, 3.0, 5.0, 7.0, 12.0], [4.0, 8.0, 5.0, 6.0, 6.0, 8.0, 5.0, 7.0, 8.0, 6.0, 12.0, 8.0, 10.0], [7.0, 8.0, 7.0, 12.0, 7.0, 6.0, 4.0, 7.0, 12.0, 6.0, 8.0, 11.0, 16.0], [10.0, 9.0, 8.0, 12.0, 12.0, 11.0, 8.0, 11.0, 8.0, 11.0, 11.0, 6.0, 8.0], [4.0, 8.0, 7.0, 6.0, 12.0, 10.0, 6.0, 8.0, 8.0, 8.0, 9.0, 12.0, 15.0], [10.0, 8.0, 8.0, 7.0, 6.0, 9.0, 10.0, 11.0, 13.0, 12.0, 17.0, 13.0, 13.0], [28.0, 26.0, 11.0, 12.0, 9.0, 9.0, 14.0, 21.0, 23.0, 20.0, 16.0, 16.0, 13.0]]\n"
     ]
    }
   ],
   "source": [
    "ecmwf_hit_list=[]\n",
    "for m in range(0,8,1):\n",
    "    hits_by_row=[]\n",
    "    for n in range(0,13,1):\n",
    "        at_sel1 = anom_t.sel(date = anom_t.date == anom_t.date[m], step=anom_t.step.dt.days == stp1[m]+n)\n",
    "        cao_t1 = at_sel1 <= -0.75 * stdv_cao_len[n]\n",
    "        ct = cao_t1.where(cao_t1.t == True)\n",
    "        ct_tot = ct.sum().t.values \n",
    "        ct_tot_list = ct_tot.tolist()\n",
    "        hits_by_row.append(ct_tot_list)\n",
    "    ecmwf_hit_list.append(hits_by_row)\n",
    "print(f'Number of hits:{ecmwf_hit_list}')"
   ]
  },
  {
   "cell_type": "code",
   "execution_count": 40,
   "id": "9ff3f2ed-4fa2-4c8a-a05b-8f8d25000310",
   "metadata": {},
   "outputs": [
    {
     "name": "stdout",
     "output_type": "stream",
     "text": [
      "[[3.0, 4.0, 0.0, 0.0, 0.0, 0.0, 0.0, 0.0, 0.0, 0.0, 0.0, 0.0, 0.0], [4.0, 5.0, 5.0, 4.0, 2.0, 3.0, 4.0, 3.0, 2.0, 0.0, 0.0, 0.0, 0.0], [4.0, 3.0, 3.0, 4.0, 1.0, 4.0, 3.0, 4.0, 4.0, 6.0, 7.0, 6.0, 3.0], [15.0, 13.0, 7.0, 6.0, 7.0, 12.0, 10.0, 9.0, 11.0, 9.0, 9.0, 7.0, 8.0]]\n"
     ]
    }
   ],
   "source": [
    "eccc_hit_list=[]\n",
    "for m in range(0,4,1):\n",
    "    hits_by_rows=[]\n",
    "    for n in range(0,13,1):\n",
    "        at_sel1 = anom_t2.sel(date = anom_t2.date == anom_t2.date[m], step=anom_t2.step.dt.days == stp2[m]+n)\n",
    "        cao_t1 = at_sel1 <= -0.75 * stdv_cao_len[n]\n",
    "        ct = cao_t1.where(cao_t1.t == True)\n",
    "        ct_tot = ct.sum().t.values \n",
    "        ct_tot_list = ct_tot.tolist()\n",
    "        hits_by_rows.append(ct_tot_list)\n",
    "    eccc_hit_list.append(hits_by_rows)\n",
    "print(eccc_hit_list)"
   ]
  },
  {
   "cell_type": "code",
   "execution_count": 41,
   "id": "2b4c3b39-292d-4465-b953-f869300421ae",
   "metadata": {
    "tags": []
   },
   "outputs": [
    {
     "name": "stdout",
     "output_type": "stream",
     "text": [
      "[[0.0, 0.0, 0.0, 1.0, 0.0, 0.0, 1.0, 1.0, 0.0, 1.0, 1.0, 0.0, 0.0], [1.0, 1.0, 1.0, 0.0, 1.0, 0.0, 0.0, 0.0, 0.0, 1.0, 1.0, 0.0, 0.0], [1.0, 1.0, 2.0, 0.0, 0.0, 0.0, 0.0, 0.0, 0.0, 0.0, 0.0, 0.0, 0.0], [1.0, 1.0, 1.0, 1.0, 1.0, 1.0, 1.0, 1.0, 1.0, 0.0, 0.0, 0.0, 0.0], [0.0, 0.0, 0.0, 0.0, 0.0, 0.0, 0.0, 0.0, 0.0, 0.0, 1.0, 1.0, 0.0], [0.0, 0.0, 0.0, 0.0, 0.0, 0.0, 0.0, 2.0, 1.0, 1.0, 1.0, 2.0, 2.0], [0.0, 0.0, 0.0, 2.0, 0.0, 0.0, 0.0, 0.0, 0.0, 0.0, 0.0, 0.0, 0.0], [0.0, 0.0, 0.0, 0.0, 0.0, 0.0, 0.0, 0.0, 0.0, 0.0, 0.0, 0.0, 0.0], [0.0, 0.0, 1.0, 1.0, 1.0, 1.0, 1.0, 1.0, 0.0, 1.0, 1.0, 0.0, 0.0], [1.0, 0.0, 0.0, 0.0, 1.0, 0.0, 0.0, 0.0, 0.0, 1.0, 1.0, 0.0, 0.0], [1.0, 1.0, 2.0, 0.0, 0.0, 0.0, 1.0, 1.0, 1.0, 0.0, 1.0, 1.0, 2.0], [1.0, 0.0, 0.0, 0.0, 1.0, 0.0, 0.0, 0.0, 1.0, 0.0, 0.0, 0.0, 0.0], [0.0, 0.0, 0.0, 1.0, 1.0, 1.0, 0.0, 1.0, 0.0, 0.0, 1.0, 1.0, 1.0], [0.0, 1.0, 1.0, 0.0, 0.0, 0.0, 0.0, 0.0, 0.0, 0.0, 0.0, 0.0, 0.0], [0.0, 0.0, 0.0, 1.0, 1.0, 1.0, 1.0, 1.0, 0.0, 1.0, 1.0, 0.0, 0.0], [2.0, 0.0, 2.0, 3.0, 1.0, 1.0, 0.0, 0.0, 1.0, 1.0, 1.0, 1.0, 0.0], [1.0, 2.0, 1.0, 0.0, 0.0, 0.0, 0.0, 0.0, 0.0, 1.0, 1.0, 1.0, 1.0], [1.0, 1.0, 1.0, 1.0, 0.0, 0.0, 0.0, 1.0, 1.0, 0.0, 1.0, 2.0, 1.0], [0.0, 0.0, 0.0, 2.0, 1.0, 0.0, 0.0, 1.0, 1.0, 2.0, 1.0, 0.0, 0.0], [0.0, 1.0, 0.0, 0.0, 0.0, 0.0, 0.0, 0.0, 0.0, 0.0, 0.0, 1.0, 0.0], [0.0, 0.0, 0.0, 0.0, 0.0, 0.0, 0.0, 0.0, 0.0, 1.0, 1.0, 0.0, 0.0], [0.0, 0.0, 0.0, 0.0, 0.0, 1.0, 1.0, 1.0, 2.0, 0.0, 0.0, 1.0, 1.0], [1.0, 1.0, 1.0, 0.0, 0.0, 0.0, 0.0, 0.0, 0.0, 0.0, 1.0, 1.0, 0.0], [0.0, 0.0, 0.0, 0.0, 0.0, 0.0, 0.0, 0.0, 2.0, 1.0, 1.0, 1.0, 1.0], [0.0, 1.0, 0.0, 0.0, 1.0, 1.0, 0.0, 2.0, 2.0, 1.0, 1.0, 0.0, 1.0], [0.0, 1.0, 1.0, 1.0, 0.0, 0.0, 0.0, 1.0, 0.0, 0.0, 0.0, 1.0, 2.0], [2.0, 1.0, 2.0, 1.0, 1.0, 2.0, 2.0, 2.0, 1.0, 0.0, 0.0, 0.0, 0.0], [0.0, 1.0, 1.0, 0.0, 1.0, 1.0, 1.0, 1.0, 1.0, 0.0, 0.0, 1.0, 0.0], [0.0, 0.0, 1.0, 0.0, 0.0, 0.0, 2.0, 0.0, 2.0, 1.0, 1.0, 0.0, 0.0], [1.0, 2.0, 2.0, 1.0, 2.0, 2.0, 2.0, 2.0, 2.0, 0.0, 0.0, 1.0, 0.0], [0.0, 2.0, 3.0, 1.0, 2.0, 2.0, 1.0, 1.0, 2.0, 2.0, 2.0, 0.0, 2.0]]\n"
     ]
    }
   ],
   "source": [
    "ukmo_hit_list = []\n",
    "for m in range(0,31,1):\n",
    "    hits_by_rows=[]\n",
    "    for n in range(0,13,1):\n",
    "        at_sel1 = anom_t3.sel(date = anom_t3.date == anom_t3.date[m], step=anom_t3.step.dt.days == stp3[m]+n)\n",
    "        cao_t1 = at_sel1 <= -0.75 * stdv_cao_len[n]\n",
    "        ct = cao_t1.where(cao_t1.t == True)\n",
    "        ct_tot = ct.sum().t.values \n",
    "        ct_tot_list = ct_tot.tolist()\n",
    "        hits_by_rows.append(ct_tot_list)\n",
    "    ukmo_hit_list.append(hits_by_rows)\n",
    "print(ukmo_hit_list)"
   ]
  },
  {
   "cell_type": "code",
   "execution_count": 42,
   "id": "2d329d36-2127-4e3b-a5eb-57b5d14dc2ce",
   "metadata": {},
   "outputs": [
    {
     "name": "stdout",
     "output_type": "stream",
     "text": [
      "[[0.0, 0.0, 0.0, 0.0, 0.0, 1.0, 1.0, 1.0, 1.0, 1.0, 1.0, 1.0, 0.0], [0.0, 0.0, 0.0, 0.0, 1.0, 1.0, 1.0, 1.0, 0.0, 0.0, 0.0, 0.0, 1.0], [0.0, 0.0, 0.0, 0.0, 0.0, 0.0, 1.0, 1.0, 0.0, 0.0, 0.0, 0.0, 0.0], [1.0, 0.0, 0.0, 1.0, 1.0, 1.0, 1.0, 0.0, 0.0, 1.0, 1.0, 1.0, 1.0], [0.0, 0.0, 1.0, 1.0, 0.0, 0.0, 0.0, 0.0, 0.0, 0.0, 0.0, 0.0, 1.0], [0.0, 0.0, 0.0, 0.0, 0.0, 0.0, 0.0, 0.0, 0.0, 0.0, 0.0, 0.0, 0.0], [0.0, 0.0, 1.0, 1.0, 1.0, 1.0, 1.0, 1.0, 2.0, 2.0, 1.0, 1.0, 1.0], [0.0, 0.0, 0.0, 1.0, 1.0, 0.0, 1.0, 1.0, 1.0, 0.0, 0.0, 0.0, 0.0]]\n"
     ]
    }
   ],
   "source": [
    "cma_hit_list=[]\n",
    "for m in range(0,8,1):\n",
    "    hits_by_row=[]\n",
    "    for n in range(0,13,1):\n",
    "        at_sel1 = anom_t4.sel(date = anom_t4.date == anom_t4.date[m], step=anom_t4.step.dt.days == stp4[m]+n)\n",
    "        cao_t1 = at_sel1 <= -0.75 * stdv_cao_len[n]\n",
    "        ct = cao_t1.where(cao_t1.t == True)\n",
    "        ct_tot = ct.sum().t.values \n",
    "        ct_tot_list = ct_tot.tolist()\n",
    "        hits_by_row.append(ct_tot_list)\n",
    "    cma_hit_list.append(hits_by_row)\n",
    "print(cma_hit_list)"
   ]
  },
  {
   "cell_type": "code",
   "execution_count": 43,
   "id": "15a42e09-f4d7-47af-868e-d634edced95f",
   "metadata": {},
   "outputs": [
    {
     "name": "stdout",
     "output_type": "stream",
     "text": [
      "[[11.0, 0.0, 0.0, 0.0, 0.0, 0.0, 0.0, 0.0, 0.0, 0.0, 0.0, 0.0, 0.0], [10.0, 10.0, 13.0, 11.0, 9.0, 7.0, 9.0, 9.0, 0.0, 0.0, 0.0, 0.0, 0.0], [3.0, 8.0, 7.0, 10.0, 13.0, 10.0, 9.0, 9.0, 6.0, 11.0, 10.0, 7.0, 13.0], [30.0, 22.0, 16.0, 18.0, 19.0, 19.0, 22.0, 17.0, 23.0, 21.0, 22.0, 20.0, 17.0]]\n"
     ]
    }
   ],
   "source": [
    "jma_hit_list=[]\n",
    "for m in range(0,4,1):\n",
    "    hits_by_row=[]\n",
    "    for n in range(0,13,1):\n",
    "        at_sel1 = anom_t5.sel(date = anom_t5.date == anom_t5.date[m], step=anom_t5.step.dt.days == stp5[m]+n)\n",
    "        cao_t1 = at_sel1 <= -0.75 * stdv_cao_len[n]\n",
    "        ct = cao_t1.where(cao_t1.t == True)\n",
    "        ct_tot = ct.sum().t.values \n",
    "        ct_tot_list = ct_tot.tolist()\n",
    "        hits_by_row.append(ct_tot_list)\n",
    "    jma_hit_list.append(hits_by_row)\n",
    "print(jma_hit_list)"
   ]
  },
  {
   "cell_type": "code",
   "execution_count": 44,
   "id": "8b4383fd-448b-4621-9d10-efa8f78b9cbb",
   "metadata": {},
   "outputs": [
    {
     "name": "stdout",
     "output_type": "stream",
     "text": [
      "[[3.0, 2.0, 0.0, 0.0, 0.0, 0.0, 0.0, 0.0, 0.0, 0.0, 0.0, 0.0, 0.0], [4.0, 5.0, 3.0, 3.0, 5.0, 6.0, 4.0, 6.0, 5.0, 0.0, 0.0, 0.0, 0.0], [6.0, 7.0, 9.0, 6.0, 5.0, 4.0, 4.0, 5.0, 7.0, 5.0, 6.0, 4.0, 3.0], [21.0, 23.0, 22.0, 18.0, 19.0, 18.0, 21.0, 25.0, 19.0, 19.0, 18.0, 17.0, 15.0]]\n"
     ]
    }
   ],
   "source": [
    "cnr_hit_list=[]\n",
    "for m in range(0,4,1):\n",
    "    hits_by_row=[]\n",
    "    for n in range(0,13,1):\n",
    "        at_sel1 = anom_t6.sel(date = anom_t6.date == anom_t6.date[m], step=anom_t6.step.dt.days == stp6[m]+n)\n",
    "        cao_t1 = at_sel1 <= -0.75 * stdv_cao_len[n]\n",
    "        ct = cao_t1.where(cao_t1.t == True)\n",
    "        ct_tot = ct.sum().t.values \n",
    "        ct_tot_list = ct_tot.tolist()\n",
    "        hits_by_row.append(ct_tot_list)\n",
    "    cnr_hit_list.append(hits_by_row)\n",
    "print(cnr_hit_list)"
   ]
  },
  {
   "cell_type": "code",
   "execution_count": 45,
   "id": "9b25320b-948f-41da-931a-79a04722e2b2",
   "metadata": {},
   "outputs": [],
   "source": [
    "#Creating a definition to calculate the sum of my nested lists\n",
    "def nested_sum(my_list):\n",
    "    total = 0  # don't use `sum` as a variable name\n",
    "    for i in my_list:\n",
    "        if isinstance(i, list):  # checks if `i` is a list\n",
    "            total += nested_sum(i)\n",
    "        else:\n",
    "            total += i\n",
    "    return total"
   ]
  },
  {
   "cell_type": "code",
   "execution_count": 46,
   "id": "2a5012c3-a7b9-4fb8-bdb1-25a359c5fa3a",
   "metadata": {},
   "outputs": [],
   "source": [
    "#Calculating the sums of the hit lists\n",
    "ecmwf_hits = nested_sum(ecmwf_hit_list)\n",
    "eccc_hits = nested_sum(eccc_hit_list)\n",
    "ukmo_hits = nested_sum(ukmo_hit_list)\n",
    "cma_hits = nested_sum(cma_hit_list)\n",
    "jma_hits = nested_sum(jma_hit_list)\n",
    "cnr_hits = nested_sum(cnr_hit_list)"
   ]
  },
  {
   "cell_type": "code",
   "execution_count": 47,
   "id": "ef788406-676b-4909-b8e0-1582e3a782b7",
   "metadata": {},
   "outputs": [],
   "source": [
    "#Calculating the total % of hits for the length of the CAO\n",
    "ecmwf_totper = 100 * ecmwf_hits/(50*13*8) #<-denominator = ensembles * CAO length * # of initialization dates\n",
    "eccc_totper = 100 * eccc_hits/(20*13*4)\n",
    "ukmo_totper = 100 * ukmo_hits/(3*13*31)\n",
    "cma_totper = 100 * cma_hits/(3*13*8)\n",
    "jma_totper = 100 * jma_hits/(49*13*4)\n",
    "cnr_totper = 100 * cnr_hits/(40*13*4)"
   ]
  },
  {
   "cell_type": "code",
   "execution_count": 48,
   "id": "267cc8aa-0a14-497a-91a8-a9287f248eec",
   "metadata": {},
   "outputs": [],
   "source": [
    "#calculating total HT and LT %\n",
    "ht_totper = (ecmwf_totper + ukmo_totper + jma_totper)/3\n",
    "lt_totper = (eccc_totper + cma_totper + cnr_totper)/3"
   ]
  },
  {
   "cell_type": "markdown",
   "id": "8315b759-e476-4ad8-a929-42c125d8c3ee",
   "metadata": {},
   "source": [
    "Now we need to determine the number of hits based off of the initialization of the model runs. This will allow us to see how the model's accuracy changed over time."
   ]
  },
  {
   "cell_type": "code",
   "execution_count": 49,
   "id": "5d61fe2d",
   "metadata": {
    "tags": []
   },
   "outputs": [],
   "source": [
    "#Creating Slices in order to select dates that are weekly\n",
    "##Note: There's no wk1 because there are no forecasts initialized in Feb.\n",
    "wk2 = slice(\"2021-01-25T00:00:00.000000000\", \"2021-01-31T00:00:00.000000000\") #<--  7-13 days in advance\n",
    "wk3 = slice(\"2021-01-18T00:00:00.000000000\", \"2021-01-24T00:00:00.000000000\") #<-- 14-20 days in advance\n",
    "wk4 = slice(\"2021-01-11T00:00:00.000000000\", \"2021-01-17T00:00:00.000000000\") #<-- 21-27 days in advance \n",
    "wk5 = slice(\"2021-01-04T00:00:00.000000000\", \"2021-01-10T00:00:00.000000000\") #<-- 28-34 days in advance\n",
    "#making the weeks into a list\n",
    "weeks = [wk2, wk3, wk4, wk5]"
   ]
  },
  {
   "cell_type": "markdown",
   "id": "80fe607e-0ba6-4afc-a138-281b598e8d0e",
   "metadata": {},
   "source": [
    "Below I'll be determining how many initialization dates fall into each date range for each model"
   ]
  },
  {
   "cell_type": "code",
   "execution_count": 50,
   "id": "53513cac-504a-4ca2-88d1-609f33722c0d",
   "metadata": {
    "tags": []
   },
   "outputs": [],
   "source": [
    "ecmwf_wk2 = anom_t.sel(date = wk2).date #<-- 1/25, 1/28\n",
    "ecmwf_wk3 = anom_t.sel(date = wk3).date #<-- 1/18, 1/21\n",
    "ecmwf_wk4 = anom_t.sel(date = wk4).date #<-- 1/11, 1/14\n",
    "ecmwf_wk5 = anom_t.sel(date = wk5).date #<-- 1/4, 1/7"
   ]
  },
  {
   "cell_type": "code",
   "execution_count": 51,
   "id": "f43b5c90",
   "metadata": {
    "tags": []
   },
   "outputs": [],
   "source": [
    "eccc_wk2 = anom_t2.sel(date = wk2).date #<-- 1/28\n",
    "eccc_wk3 = anom_t2.sel(date = wk3).date #<-- 1/21\n",
    "eccc_wk4 = anom_t2.sel(date = wk4).date #<-- 1/14\n",
    "eccc_wk5 = anom_t2.sel(date = wk5).date #<-- 1/7"
   ]
  },
  {
   "cell_type": "code",
   "execution_count": 52,
   "id": "44102ada",
   "metadata": {
    "tags": []
   },
   "outputs": [],
   "source": [
    "ukmo_wk2 = anom_t3.sel(date = wk2).date #<-- 1/25, 1/26, 1/27, 1/28, 1/29, 1/30, 1/31\n",
    "ukmo_wk3 = anom_t3.sel(date = wk3).date #<-- 1/18, 1/19, 1/20, 1/21, 1/22, 1/23, 1/24\n",
    "ukmo_wk4 = anom_t3.sel(date = wk4).date #<-- 1/11, 1/12, 1/13, 1/14, 1/15, 1/16, 1/17\n",
    "ukmo_wk5 = anom_t3.sel(date = wk5).date #<-- 1/4, 1/5, 1/6, 1/7, 1/8, 1/9, 1/10"
   ]
  },
  {
   "cell_type": "code",
   "execution_count": 53,
   "id": "7f95d239",
   "metadata": {
    "tags": []
   },
   "outputs": [],
   "source": [
    "cma_wk2 = anom_t4.sel(date = wk2).date #<-- 1/25, 1/28\n",
    "cma_wk3 = anom_t4.sel(date = wk3).date #<-- 1/18, 1/21\n",
    "cma_wk4 = anom_t4.sel(date = wk4).date #<-- 1/11, 1/14\n",
    "cma_wk5 = anom_t4.sel(date = wk5).date #<-- 1/4, 1/7"
   ]
  },
  {
   "cell_type": "code",
   "execution_count": 54,
   "id": "a9ebc75c-38c5-451b-b241-62ded726b55c",
   "metadata": {
    "tags": []
   },
   "outputs": [],
   "source": [
    "jma_wk2 = anom_t5.sel(date = wk2).date #<-- 1/27\n",
    "jma_wk3 = anom_t5.sel(date = wk3).date #<-- 1/20\n",
    "jma_wk4 = anom_t5.sel(date = wk4).date #<-- 1/13\n",
    "jma_wk5 = anom_t5.sel(date = wk5).date #<-- 1/6"
   ]
  },
  {
   "cell_type": "code",
   "execution_count": 55,
   "id": "0b89175a-5913-4053-be0e-797d14cec749",
   "metadata": {
    "tags": []
   },
   "outputs": [],
   "source": [
    "cnr_wk2 = anom_t6.sel(date = wk2).date #<-- 1/28\n",
    "cnr_wk3 = anom_t6.sel(date = wk3).date #<-- 1/21\n",
    "cnr_wk4 = anom_t6.sel(date = wk4).date #<-- 1/14\n",
    "cnr_wk5 = anom_t6.sel(date = wk5).date #<-- 1/7"
   ]
  },
  {
   "cell_type": "markdown",
   "id": "f1fd7b80-b70c-4dd2-90c0-0cb3bd848d3d",
   "metadata": {},
   "source": [
    "Below I will be noting the number of hits per these date ranges which will be done manually."
   ]
  },
  {
   "cell_type": "code",
   "execution_count": 56,
   "id": "5800ebbe-44c9-4b40-add1-7eaa86a8629f",
   "metadata": {},
   "outputs": [],
   "source": [
    "ecmwf_wk5_tothits = np.sum(ecmwf_hit_list[0:2])\n",
    "ecmwf_wk4_tothits = np.sum(ecmwf_hit_list[2:4])\n",
    "ecmwf_wk3_tothits = np.sum(ecmwf_hit_list[4:6])\n",
    "ecmwf_wk2_tothits = np.sum(ecmwf_hit_list[6:8])"
   ]
  },
  {
   "cell_type": "code",
   "execution_count": 57,
   "id": "452159ef-f7bd-41ed-b036-8d9a18041e63",
   "metadata": {},
   "outputs": [],
   "source": [
    "eccc_wk5_tothits = np.sum(eccc_hit_list[0:1])\n",
    "eccc_wk4_tothits = np.sum(eccc_hit_list[1:2])\n",
    "eccc_wk3_tothits = np.sum(eccc_hit_list[2:3])\n",
    "eccc_wk2_tothits = np.sum(eccc_hit_list[3:4])"
   ]
  },
  {
   "cell_type": "code",
   "execution_count": 58,
   "id": "b5976eb9-3222-45e5-af2c-e7209e360a96",
   "metadata": {},
   "outputs": [],
   "source": [
    "ukmo_wk5_tothits = np.sum(ukmo_hit_list[0:7])\n",
    "ukmo_wk4_tothits = np.sum(ukmo_hit_list[7:14])\n",
    "ukmo_wk3_tothits = np.sum(ukmo_hit_list[14:21])\n",
    "ukmo_wk2_tothits = np.sum(ukmo_hit_list[21:28])"
   ]
  },
  {
   "cell_type": "code",
   "execution_count": 59,
   "id": "ecd0d5e6-e2fc-47f7-9198-93fbb2568ed7",
   "metadata": {},
   "outputs": [],
   "source": [
    "cma_wk5_tothits = np.sum(cma_hit_list[0:2])\n",
    "cma_wk4_tothits = np.sum(cma_hit_list[2:4])\n",
    "cma_wk3_tothits = np.sum(cma_hit_list[4:6])\n",
    "cma_wk2_tothits = np.sum(cma_hit_list[6:8])"
   ]
  },
  {
   "cell_type": "code",
   "execution_count": 60,
   "id": "129d4ed8-5956-4e1b-bb68-46f5d6142a0d",
   "metadata": {},
   "outputs": [],
   "source": [
    "jma_wk5_tothits = np.sum(jma_hit_list[0:1])\n",
    "jma_wk4_tothits = np.sum(jma_hit_list[1:2])\n",
    "jma_wk3_tothits = np.sum(jma_hit_list[2:3])\n",
    "jma_wk2_tothits = np.sum(jma_hit_list[3:4])"
   ]
  },
  {
   "cell_type": "code",
   "execution_count": 61,
   "id": "2992f38d-462d-41b7-956c-4ee3bc756715",
   "metadata": {},
   "outputs": [],
   "source": [
    "cnr_wk5_tothits = np.sum(cnr_hit_list[0:1])\n",
    "cnr_wk4_tothits = np.sum(cnr_hit_list[1:2])\n",
    "cnr_wk3_tothits = np.sum(cnr_hit_list[2:3])\n",
    "cnr_wk2_tothits = np.sum(cnr_hit_list[3:4])"
   ]
  },
  {
   "cell_type": "code",
   "execution_count": 62,
   "id": "3626fe6a-7965-47e7-92d2-7d05dc295c1a",
   "metadata": {},
   "outputs": [],
   "source": [
    "#Determining the percent for each week for ECMWF\n",
    "ecmwf_wk5per = 100 * ecmwf_wk5_tothits / (50*13*2) #<- denominator = ensembles * steps * dates\n",
    "ecmwf_wk4per = 100 * ecmwf_wk4_tothits / (50*13*2)\n",
    "ecmwf_wk3per = 100 * ecmwf_wk3_tothits / (50*13*2)\n",
    "ecmwf_wk2per = 100 * ecmwf_wk2_tothits / (50*13*2)"
   ]
  },
  {
   "cell_type": "code",
   "execution_count": 63,
   "id": "dd8e123b-e396-439b-aba9-1ef12fad11ce",
   "metadata": {},
   "outputs": [],
   "source": [
    "#Determining the percent for each week for ECCC\n",
    "eccc_wk5per = 100 * eccc_wk5_tothits / (20*13*1) #<- denominator = ensembles * steps * dates\n",
    "eccc_wk4per = 100 * eccc_wk4_tothits / (20*13*1)\n",
    "eccc_wk3per = 100 * eccc_wk3_tothits / (20*13*1)\n",
    "eccc_wk2per = 100 * eccc_wk2_tothits / (20*13*1)"
   ]
  },
  {
   "cell_type": "code",
   "execution_count": 64,
   "id": "783fe6f4-8795-4bcb-a469-c21da16a6ad4",
   "metadata": {},
   "outputs": [],
   "source": [
    "#Determining the percent for each week for UKMO\n",
    "ukmo_wk5per = 100 * ukmo_wk5_tothits / (3*13*7) #<- denominator = ensembles * steps * dates (for that week)\n",
    "ukmo_wk4per = 100 * ukmo_wk4_tothits / (3*13*7)\n",
    "ukmo_wk3per = 100 * ukmo_wk3_tothits / (3*13*7)\n",
    "ukmo_wk2per = 100 * ukmo_wk2_tothits / (3*13*7)"
   ]
  },
  {
   "cell_type": "code",
   "execution_count": 65,
   "id": "9f49281a-c5cc-48d3-b3ab-ffdc6b1d7d7a",
   "metadata": {},
   "outputs": [],
   "source": [
    "#Determining the percent for each week for CMA\n",
    "cma_wk5per = 100 * cma_wk5_tothits / (3*13*2) #<- denominator = ensembles * steps * dates\n",
    "cma_wk4per = 100 * cma_wk4_tothits / (3*13*2)\n",
    "cma_wk3per = 100 * cma_wk3_tothits / (3*13*2)\n",
    "cma_wk2per = 100 * cma_wk2_tothits / (3*13*2)"
   ]
  },
  {
   "cell_type": "code",
   "execution_count": 66,
   "id": "09e5d085-04f5-4d11-8952-c07cb08744d9",
   "metadata": {},
   "outputs": [],
   "source": [
    "#Determining the percent for each week for JMA\n",
    "jma_wk5per = 100 * jma_wk5_tothits / (49*13*1) #<- denominator = ensembles * steps * dates\n",
    "jma_wk4per = 100 * jma_wk4_tothits / (49*13*1)\n",
    "jma_wk3per = 100 * jma_wk3_tothits / (49*13*1)\n",
    "jma_wk2per = 100 * jma_wk2_tothits / (49*13*1)"
   ]
  },
  {
   "cell_type": "code",
   "execution_count": 67,
   "id": "985ea632-9e00-44b5-b657-cafa95e88697",
   "metadata": {},
   "outputs": [],
   "source": [
    "#Determining the percent for each week for JMA\n",
    "cnr_wk5per = 100 * cnr_wk5_tothits / (40*13*1) #<- denominator = ensembles * steps * dates\n",
    "cnr_wk4per = 100 * cnr_wk4_tothits / (40*13*1)\n",
    "cnr_wk3per = 100 * cnr_wk3_tothits / (40*13*1)\n",
    "cnr_wk2per = 100 * cnr_wk2_tothits / (40*13*1)"
   ]
  },
  {
   "cell_type": "code",
   "execution_count": 68,
   "id": "667d15fe-57a6-40c3-bdc0-29ec87f1b740",
   "metadata": {},
   "outputs": [],
   "source": [
    "ht_wk5per = (ecmwf_wk5per + ukmo_wk5per + jma_wk5per)/3\n",
    "ht_wk4per = (ecmwf_wk4per + ukmo_wk4per + jma_wk4per)/3\n",
    "ht_wk3per = (ecmwf_wk3per + ukmo_wk3per + jma_wk3per)/3\n",
    "ht_wk2per = (ecmwf_wk2per + ukmo_wk2per + jma_wk2per)/3"
   ]
  },
  {
   "cell_type": "code",
   "execution_count": 69,
   "id": "a5f23d10-48ba-4db4-8dcc-fd92bb78d1d3",
   "metadata": {},
   "outputs": [],
   "source": [
    "lt_wk5per = (eccc_wk5per + cma_wk5per + cnr_wk5per)/3\n",
    "lt_wk4per = (eccc_wk4per + cma_wk4per + cnr_wk4per)/3\n",
    "lt_wk3per = (eccc_wk3per + cma_wk3per + cnr_wk3per)/3\n",
    "lt_wk2per = (eccc_wk2per + cma_wk2per + cnr_wk2per)/3"
   ]
  },
  {
   "cell_type": "markdown",
   "id": "8850cb08-bc1b-472f-9976-c6fd51ddf67c",
   "metadata": {},
   "source": [
    "Now I'm printing the percentages of hits "
   ]
  },
  {
   "cell_type": "code",
   "execution_count": 70,
   "id": "6852cf02-9441-41a9-b920-a21793025d6b",
   "metadata": {},
   "outputs": [
    {
     "name": "stdout",
     "output_type": "stream",
     "text": [
      "ECMWF wk5: 18.384615384615383\n",
      "ECMWF wk4: 15.692307692307692\n",
      "ECMWF wk3: 18.307692307692307\n",
      "ECMWF wk2: 27.307692307692307\n",
      "ecmwf:19.923076923076923\n"
     ]
    }
   ],
   "source": [
    "print(f'ECMWF wk5: {ecmwf_wk5per}')\n",
    "print(f'ECMWF wk4: {ecmwf_wk4per}')\n",
    "print(f'ECMWF wk3: {ecmwf_wk3per}')\n",
    "print(f'ECMWF wk2: {ecmwf_wk2per}')\n",
    "print(f'ecmwf:{ecmwf_totper}')"
   ]
  },
  {
   "cell_type": "code",
   "execution_count": 71,
   "id": "e476c600-277c-4480-8dbd-b654cf5dad21",
   "metadata": {},
   "outputs": [
    {
     "name": "stdout",
     "output_type": "stream",
     "text": [
      "ECCC wk5: 2.6923076923076925\n",
      "ECCC wk4: 12.307692307692308\n",
      "ECCC wk3: 20.0\n",
      "ECCC wk2: 47.30769230769231\n",
      "ECCC:20.576923076923077\n"
     ]
    }
   ],
   "source": [
    "print(f'ECCC wk5: {eccc_wk5per}')\n",
    "print(f'ECCC wk4: {eccc_wk4per}')\n",
    "print(f'ECCC wk3: {eccc_wk3per}')\n",
    "print(f'ECCC wk2: {eccc_wk2per}')\n",
    "print(f'ECCC:{eccc_totper}')"
   ]
  },
  {
   "cell_type": "code",
   "execution_count": 72,
   "id": "a182e979-be07-4f70-8c0d-00364f3a7c05",
   "metadata": {},
   "outputs": [
    {
     "name": "stdout",
     "output_type": "stream",
     "text": [
      "UKMO wk5: 3.0603804797353185\n",
      "UKMO wk4: 2.8949545078577335\n",
      "UKMO wk3: 4.1356492969396195\n",
      "UKMO wk2: 4.714640198511166\n",
      "UKMO:18.4449958643507\n"
     ]
    }
   ],
   "source": [
    "print(f'UKMO wk5: {ukmo_wk5per}')\n",
    "print(f'UKMO wk4: {ukmo_wk4per}')\n",
    "print(f'UKMO wk3: {ukmo_wk3per}')\n",
    "print(f'UKMO wk2: {ukmo_wk2per}')\n",
    "print(f'UKMO:{ukmo_totper}')"
   ]
  },
  {
   "cell_type": "code",
   "execution_count": 73,
   "id": "68f4d53e-680c-4bb3-bb2d-fe3502f743b3",
   "metadata": {},
   "outputs": [
    {
     "name": "stdout",
     "output_type": "stream",
     "text": [
      "CMA wk5: 15.384615384615385\n",
      "CMA wk4: 14.102564102564102\n",
      "CMA wk3: 3.8461538461538463\n",
      "CMA wk2: 23.076923076923077\n",
      "CMA:14.102564102564102\n"
     ]
    }
   ],
   "source": [
    "print(f'CMA wk5: {cma_wk5per}')\n",
    "print(f'CMA wk4: {cma_wk4per}')\n",
    "print(f'CMA wk3: {cma_wk3per}')\n",
    "print(f'CMA wk2: {cma_wk2per}')\n",
    "print(f'CMA:{cma_totper}')"
   ]
  },
  {
   "cell_type": "code",
   "execution_count": 74,
   "id": "a0656956-d6a2-4097-87e9-97f48c4976c2",
   "metadata": {},
   "outputs": [
    {
     "name": "stdout",
     "output_type": "stream",
     "text": [
      "JMA wk5: 1.7268445839874411\n",
      "JMA wk4: 12.244897959183673\n",
      "JMA wk3: 18.210361067503925\n",
      "JMA wk2: 41.75824175824176\n",
      "JMA:18.4850863422292\n"
     ]
    }
   ],
   "source": [
    "print(f'JMA wk5: {jma_wk5per}')\n",
    "print(f'JMA wk4: {jma_wk4per}')\n",
    "print(f'JMA wk3: {jma_wk3per}')\n",
    "print(f'JMA wk2: {jma_wk2per}')\n",
    "print(f'JMA:{jma_totper}')"
   ]
  },
  {
   "cell_type": "code",
   "execution_count": 75,
   "id": "235f1af5-82b0-4193-aa06-33e69714f408",
   "metadata": {},
   "outputs": [
    {
     "name": "stdout",
     "output_type": "stream",
     "text": [
      "CNR wk5: 0.9615384615384616\n",
      "CNR wk4: 7.884615384615385\n",
      "CNR wk3: 13.653846153846153\n",
      "CNR wk2: 49.03846153846154\n",
      "CNR:17.884615384615383\n"
     ]
    }
   ],
   "source": [
    "print(f'CNR wk5: {cnr_wk5per}')\n",
    "print(f'CNR wk4: {cnr_wk4per}')\n",
    "print(f'CNR wk3: {cnr_wk3per}')\n",
    "print(f'CNR wk2: {cnr_wk2per}')\n",
    "print(f'CNR:{cnr_totper}')"
   ]
  },
  {
   "cell_type": "code",
   "execution_count": 76,
   "id": "96dc7a3e-dc9d-4832-b5c1-f41274fc10ad",
   "metadata": {},
   "outputs": [
    {
     "name": "stdout",
     "output_type": "stream",
     "text": [
      "HT wk5: 7.723946816112714\n",
      "HT wk4: 10.277386719783033\n",
      "HT wk3: 13.551234224045283\n",
      "HT wk2: 24.593524754815075\n",
      "HT:18.951053043218938\n"
     ]
    }
   ],
   "source": [
    "print(f'HT wk5: {ht_wk5per}')\n",
    "print(f'HT wk4: {ht_wk4per}')\n",
    "print(f'HT wk3: {ht_wk3per}')\n",
    "print(f'HT wk2: {ht_wk2per}')\n",
    "print(f'HT:{ht_totper}')"
   ]
  },
  {
   "cell_type": "code",
   "execution_count": 77,
   "id": "2bea023c-c1a4-436b-8705-8afff657c13a",
   "metadata": {},
   "outputs": [
    {
     "name": "stdout",
     "output_type": "stream",
     "text": [
      "LT wk5: 6.346153846153846\n",
      "LT wk4: 11.431623931623932\n",
      "LT wk3: 12.5\n",
      "LT wk2: 39.807692307692314\n",
      "LT:17.521367521367523\n"
     ]
    }
   ],
   "source": [
    "print(f'LT wk5: {lt_wk5per}')\n",
    "print(f'LT wk4: {lt_wk4per}')\n",
    "print(f'LT wk3: {lt_wk3per}')\n",
    "print(f'LT wk2: {lt_wk2per}')\n",
    "print(f'LT:{lt_totper}')"
   ]
  },
  {
   "cell_type": "markdown",
   "id": "b21b5b79-fd02-4a89-a5f0-6a4b1dfbefbd",
   "metadata": {},
   "source": [
    "### These percentages are now placed into an excel sheet and made into a new txt file. These files are then used to plot the data."
   ]
  },
  {
   "cell_type": "code",
   "execution_count": null,
   "id": "7a77035c-65a0-496a-96ba-956f5d76df4f",
   "metadata": {},
   "outputs": [],
   "source": []
  }
 ],
 "metadata": {
  "kernelspec": {
   "display_name": "Python 3 August 2022 Environment",
   "language": "python",
   "name": "aug22"
  },
  "language_info": {
   "codemirror_mode": {
    "name": "ipython",
    "version": 3
   },
   "file_extension": ".py",
   "mimetype": "text/x-python",
   "name": "python",
   "nbconvert_exporter": "python",
   "pygments_lexer": "ipython3",
   "version": "3.10.5"
  }
 },
 "nbformat": 4,
 "nbformat_minor": 5
}
