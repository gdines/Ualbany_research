{
 "cells": [
  {
   "cell_type": "code",
   "execution_count": null,
   "id": "9a1bbfb3-8fc8-4ff3-b935-358fdec7ac56",
   "metadata": {},
   "outputs": [],
   "source": [
    "import xarray as xr\n",
    "import pandas as pd\n",
    "import numpy as np\n",
    "import xesmf as xe\n",
    "from metpy.units import units\n",
    "from metpy import calc as mpcalc\n",
    "import netCDF4\n",
    "from netCDF4 import Dataset\n",
    "from datetime import datetime, date, timedelta"
   ]
  },
  {
   "cell_type": "code",
   "execution_count": null,
   "id": "b9eb5635-51af-4c9a-a31d-441c197b5489",
   "metadata": {},
   "outputs": [],
   "source": [
    "real1_ds = xr.open_dataset('/langlab_rit/andrea/ERA5data/era5_202101_t.nc')\n",
    "real2_ds = xr.open_dataset('/langlab_rit/andrea/ERA5data/era5_202102_t.nc')"
   ]
  },
  {
   "cell_type": "code",
   "execution_count": null,
   "id": "a45696e1-63ac-4dd1-9648-4336d0431ff2",
   "metadata": {},
   "outputs": [],
   "source": [
    "#Regridding ERA5 data using xesmf\n",
    "\n",
    "ds_out = xr.Dataset(\n",
    "    {\n",
    "        \"lon\": ([\"lon\"], np.arange(0, 360, 1.5)),\n",
    "        \"lat\": ([\"lat\"], np.arange(-90, 91.5, 1.5)),\n",
    "    }\n",
    ")\n",
    "\n",
    "regridder = xe.Regridder(real1_ds, ds_out, \"bilinear\")\n",
    "regridder"
   ]
  },
  {
   "cell_type": "code",
   "execution_count": null,
   "id": "239cc6bd-c297-4393-97f6-c63c61221566",
   "metadata": {},
   "outputs": [],
   "source": [
    "real1_rgrd = regridder(real1_ds)\n",
    "real2_rgrd = regridder(real2_ds)"
   ]
  },
  {
   "cell_type": "code",
   "execution_count": null,
   "id": "6aafdf5d-e420-47ed-820a-744e0de794f6",
   "metadata": {},
   "outputs": [],
   "source": [
    "# Vertical level specificaton\n",
    "vlevel = 1000\n",
    "levelStr = str(vlevel)\n",
    "\n",
    "#Box coordinates: [[49,-108], [49,-87], [32,-87], [32,-108],[49,-108]]\n",
    "lat_min = 25\n",
    "lat_max = 75\n",
    "lon_min = 200\n",
    "lon_max = 300"
   ]
  },
  {
   "cell_type": "code",
   "execution_count": null,
   "id": "f3603a4b-e653-409b-bbd5-07400a60a416",
   "metadata": {},
   "outputs": [],
   "source": [
    "#Reducing the datasets\n",
    "r1 = real1_rgrd.reindex(lat=list(reversed(real1_rgrd.lat)))\n",
    "t = r1['t'].sel(level=vlevel)#<--forecasted temps at 1000mb\n",
    "rt1_rd = t.sel(time=t.time.dt.hour == 0)\n",
    "rt1_rdf = rt1_rd.sel(lat=slice(lat_max,lat_min), lon=slice(lon_min,lon_max))\n",
    "\n",
    "r2 = real2_rgrd.reindex(lat=list(reversed(real2_rgrd.lat)))\n",
    "t2 = r2['t'].sel(level=vlevel)#<--forecasted temps at 1000mb\n",
    "rt2_rd = t2.sel(time=t2.time.dt.hour == 0)\n",
    "rt2_rdf = rt2_rd.sel(lat=slice(lat_max,lat_min), lon=slice(lon_min,lon_max))"
   ]
  },
  {
   "cell_type": "code",
   "execution_count": null,
   "id": "0599f3ec-dca8-49ef-944e-86c5efa83250",
   "metadata": {
    "tags": []
   },
   "outputs": [],
   "source": [
    "rt1_rdf"
   ]
  },
  {
   "cell_type": "code",
   "execution_count": null,
   "id": "3cc0902c-49f1-43cf-a882-f8138b05c952",
   "metadata": {},
   "outputs": [],
   "source": [
    "rt2_rdf"
   ]
  },
  {
   "cell_type": "code",
   "execution_count": null,
   "id": "c2367c02-697b-4db3-b3b7-5d8ce9168bc7",
   "metadata": {},
   "outputs": [],
   "source": [
    "rt1_ds = rt1_rdf.to_netcdf(path=\"/home11/grad/2021/gd673524/research/gdines/box_proj/CONCAN_data/rd_t/realt_jan.nc\",\n",
    "                               mode='w')\n",
    "rt2_ds = rt2_rdf.to_netcdf(path=\"/home11/grad/2021/gd673524/research/gdines/box_proj/CONCAN_data/rd_t/realt_feb.nc\",\n",
    "                               mode='w')"
   ]
  },
  {
   "cell_type": "code",
   "execution_count": null,
   "id": "89daa091-0fa4-43dc-9b72-36035373a64f",
   "metadata": {},
   "outputs": [],
   "source": [
    "rt1_ds = xr.open_dataset(\"/home11/grad/2021/gd673524/research/gdines/box_proj/CONCAN_data/rd_t/realt_jan.nc\")\n",
    "rt2_ds = xr.open_dataset(\"/home11/grad/2021/gd673524/research/gdines/box_proj/CONCAN_data/rd_t/realt_feb.nc\")"
   ]
  },
  {
   "cell_type": "code",
   "execution_count": null,
   "id": "a8aabd3a-79bf-45b8-9c4f-9fb1edbc41ec",
   "metadata": {},
   "outputs": [],
   "source": [
    "rt2_ds"
   ]
  },
  {
   "cell_type": "code",
   "execution_count": null,
   "id": "386a344b-e961-4443-b60d-90aa36446198",
   "metadata": {},
   "outputs": [],
   "source": [
    "#Making lat/lon means\n",
    "rt1_llmn = rt1_rdf.mean(dim=['lat','lon'])\n",
    "rt2_llmn = rt2_rdf.mean(dim=['lat', 'lon'])"
   ]
  },
  {
   "cell_type": "code",
   "execution_count": null,
   "id": "4f65b05f-0e4e-4985-b76d-66a5fe8459d2",
   "metadata": {},
   "outputs": [],
   "source": [
    "rt1_llmn"
   ]
  },
  {
   "cell_type": "code",
   "execution_count": null,
   "id": "33743f1e-1479-428c-9c96-163faf7637cb",
   "metadata": {},
   "outputs": [],
   "source": [
    "rt1_llmn = rt1_llmn.to_netcdf(path=\"/home11/grad/2021/gd673524/research/gdines/box_proj/CONCAN_data/llmn_t/realt_jan.nc\",\n",
    "                               mode='w')\n",
    "rt2_llmn = rt2_llmn.to_netcdf(path=\"/home11/grad/2021/gd673524/research/gdines/box_proj/CONCAN_data/llmn_t/realt_feb.nc\",\n",
    "                               mode='w')"
   ]
  },
  {
   "cell_type": "code",
   "execution_count": null,
   "id": "f5fa7b02-d7c9-4c62-b48f-a7350775e9fd",
   "metadata": {},
   "outputs": [],
   "source": []
  }
 ],
 "metadata": {
  "kernelspec": {
   "display_name": "Python 3 August 2021 Environment",
   "language": "python",
   "name": "aug21"
  },
  "language_info": {
   "codemirror_mode": {
    "name": "ipython",
    "version": 3
   },
   "file_extension": ".py",
   "mimetype": "text/x-python",
   "name": "python",
   "nbconvert_exporter": "python",
   "pygments_lexer": "ipython3",
   "version": "3.8.10"
  }
 },
 "nbformat": 4,
 "nbformat_minor": 5
}
