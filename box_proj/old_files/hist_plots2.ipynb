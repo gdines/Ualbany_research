{
 "cells": [
  {
   "cell_type": "code",
   "execution_count": 1,
   "id": "e45ebd4c-58c9-453e-b513-b307ed1600f1",
   "metadata": {},
   "outputs": [],
   "source": [
    "import datetime as dt\n",
    "import numpy as np\n",
    "import matplotlib\n",
    "matplotlib.use('Agg')\n",
    "import matplotlib.pyplot as plt\n",
    "import xarray as xr\n",
    "import math\n",
    "import netCDF4\n",
    "import pandas as pd\n",
    "\n",
    "%matplotlib inline"
   ]
  },
  {
   "cell_type": "code",
   "execution_count": 2,
   "id": "fac8c8ca-cf2a-4705-be66-705ea124f62c",
   "metadata": {},
   "outputs": [],
   "source": [
    "ECMWF_df = pd.read_csv('ECMWF_hits_feb9.csv',names=['Initialization', 'step', 'hits','s10', 's15', 's20', 's25', 's30', 's35'],\n",
    "                 index_col=False, skiprows=1)\n",
    "ECCC_df = pd.read_csv('ECCC_hits_feb9.csv',names=['Initialization', 'step', 'hits','s10', 's15', 's20', 's25', 's30', 's35'],\n",
    "                 index_col=False, skiprows=1)\n",
    "UKMO_df = pd.read_csv('UKMO_hits_feb9.csv',names=['Initialization', 'step', 'hits','s10', 's15', 's20', 's25', 's30', 's35'],\n",
    "                 index_col=False, skiprows=1)\n",
    "CMA_df = pd.read_csv('CMA_hits_feb9.csv',names=['Initialization', 'step', 'hits','s10', 's15', 's20', 's25', 's30', 's35'],\n",
    "                 index_col=False, skiprows=1)\n",
    "JMA_df = pd.read_csv('JMA_hits_feb9.csv',names=['Initialization', 'step', 'hits','s10', 's15', 's20', 's25', 's30', 's35'],\n",
    "                 index_col=False, skiprows=1)\n",
    "CNR_df = pd.read_csv('CNR_hits_feb9.csv',names=['Initialization', 'step', 'hits','s10', 's15', 's20', 's25', 's30', 's35'],\n",
    "                 index_col=False, skiprows=1)\n",
    "per_df = pd.read_csv('per_hits_feb9_b1.csv',names=['Initialization', 'ECMWF', 'ECCC', 'UKMO', 'CMA', 'JMA', 'CNR'],\n",
    "                 index_col=False, skiprows=1)\n",
    "avg_per_df = pd.read_csv('avg_per_hits_feb9_b1.csv',names=['Models','ECMWF', 'ECCC', 'UKMO', 'CMA', 'JMA', 'CNR', 'High-top', 'Low-top'],\n",
    "                 index_col=False, skiprows=1, nrows=1)"
   ]
  },
  {
   "cell_type": "code",
   "execution_count": 3,
   "id": "79442100-c6ad-401d-87e2-b0e793a0d0a2",
   "metadata": {},
   "outputs": [],
   "source": [
    "#Creating Slices in order to select dates that are in between these 5day ranges\n",
    "s10 = slice(\"2021-01-27T00:00:00.000000000\", \"2021-01-31T00:00:00.000000000\") #<-- 10-14 days in advance\n",
    "s15 = slice(\"2021-01-22T00:00:00.000000000\", \"2021-01-26T00:00:00.000000000\") #<-- 15-19 days in advance\n",
    "s20 = slice(\"2021-01-17T00:00:00.000000000\", \"2021-01-21T00:00:00.000000000\") #<-- 20-24 day \n",
    "s25 = slice(\"2021-01-12T00:00:00.000000000\", \"2021-01-16T00:00:00.000000000\") #<-- 25-29 days\n",
    "s30 = slice(\"2021-01-07T00:00:00.000000000\", \"2021-01-11T00:00:00.000000000\") #<-- 30-34 days \n",
    "s35 = slice(\"2021-01-02T00:00:00.000000000\", \"2021-01-06T00:00:00.000000000\") #<-- 35-39 days"
   ]
  },
  {
   "cell_type": "code",
   "execution_count": 4,
   "id": "44a20e03-9fe3-4fc4-b99e-12b81ea5dac8",
   "metadata": {},
   "outputs": [
    {
     "data": {
      "text/html": [
       "<div>\n",
       "<style scoped>\n",
       "    .dataframe tbody tr th:only-of-type {\n",
       "        vertical-align: middle;\n",
       "    }\n",
       "\n",
       "    .dataframe tbody tr th {\n",
       "        vertical-align: top;\n",
       "    }\n",
       "\n",
       "    .dataframe thead th {\n",
       "        text-align: right;\n",
       "    }\n",
       "</style>\n",
       "<table border=\"1\" class=\"dataframe\">\n",
       "  <thead>\n",
       "    <tr style=\"text-align: right;\">\n",
       "      <th></th>\n",
       "      <th>Initialization</th>\n",
       "      <th>ECMWF</th>\n",
       "      <th>ECCC</th>\n",
       "      <th>UKMO</th>\n",
       "      <th>CMA</th>\n",
       "      <th>JMA</th>\n",
       "      <th>CNR</th>\n",
       "    </tr>\n",
       "  </thead>\n",
       "  <tbody>\n",
       "    <tr>\n",
       "      <th>0</th>\n",
       "      <td>10-14</td>\n",
       "      <td>20</td>\n",
       "      <td>40.0</td>\n",
       "      <td>60.00</td>\n",
       "      <td>0.00</td>\n",
       "      <td>6.12</td>\n",
       "      <td>0.0</td>\n",
       "    </tr>\n",
       "    <tr>\n",
       "      <th>1</th>\n",
       "      <td>15-19</td>\n",
       "      <td>20</td>\n",
       "      <td>NaN</td>\n",
       "      <td>6.67</td>\n",
       "      <td>33.33</td>\n",
       "      <td>NaN</td>\n",
       "      <td>NaN</td>\n",
       "    </tr>\n",
       "    <tr>\n",
       "      <th>2</th>\n",
       "      <td>20-24</td>\n",
       "      <td>21</td>\n",
       "      <td>25.0</td>\n",
       "      <td>6.67</td>\n",
       "      <td>16.67</td>\n",
       "      <td>12.24</td>\n",
       "      <td>17.5</td>\n",
       "    </tr>\n",
       "    <tr>\n",
       "      <th>3</th>\n",
       "      <td>25-29</td>\n",
       "      <td>20</td>\n",
       "      <td>30.0</td>\n",
       "      <td>33.33</td>\n",
       "      <td>0.00</td>\n",
       "      <td>10.20</td>\n",
       "      <td>12.5</td>\n",
       "    </tr>\n",
       "    <tr>\n",
       "      <th>4</th>\n",
       "      <td>30-34</td>\n",
       "      <td>19</td>\n",
       "      <td>NaN</td>\n",
       "      <td>13.33</td>\n",
       "      <td>0.00</td>\n",
       "      <td>NaN</td>\n",
       "      <td>NaN</td>\n",
       "    </tr>\n",
       "    <tr>\n",
       "      <th>5</th>\n",
       "      <td>35-39</td>\n",
       "      <td>14</td>\n",
       "      <td>NaN</td>\n",
       "      <td>13.33</td>\n",
       "      <td>0.00</td>\n",
       "      <td>NaN</td>\n",
       "      <td>NaN</td>\n",
       "    </tr>\n",
       "  </tbody>\n",
       "</table>\n",
       "</div>"
      ],
      "text/plain": [
       "  Initialization  ECMWF  ECCC   UKMO    CMA    JMA   CNR\n",
       "0          10-14     20  40.0  60.00   0.00   6.12   0.0\n",
       "1          15-19     20   NaN   6.67  33.33    NaN   NaN\n",
       "2          20-24     21  25.0   6.67  16.67  12.24  17.5\n",
       "3          25-29     20  30.0  33.33   0.00  10.20  12.5\n",
       "4          30-34     19   NaN  13.33   0.00    NaN   NaN\n",
       "5          35-39     14   NaN  13.33   0.00    NaN   NaN"
      ]
     },
     "execution_count": 4,
     "metadata": {},
     "output_type": "execute_result"
    }
   ],
   "source": [
    "per_df"
   ]
  },
  {
   "cell_type": "code",
   "execution_count": 5,
   "id": "5e0e53c4-2a41-4aee-8b10-33a4e12fa731",
   "metadata": {},
   "outputs": [
    {
     "data": {
      "text/html": [
       "<div>\n",
       "<style scoped>\n",
       "    .dataframe tbody tr th:only-of-type {\n",
       "        vertical-align: middle;\n",
       "    }\n",
       "\n",
       "    .dataframe tbody tr th {\n",
       "        vertical-align: top;\n",
       "    }\n",
       "\n",
       "    .dataframe thead th {\n",
       "        text-align: right;\n",
       "    }\n",
       "</style>\n",
       "<table border=\"1\" class=\"dataframe\">\n",
       "  <thead>\n",
       "    <tr style=\"text-align: right;\">\n",
       "      <th></th>\n",
       "      <th>Models</th>\n",
       "      <th>ECMWF</th>\n",
       "      <th>ECCC</th>\n",
       "      <th>UKMO</th>\n",
       "      <th>CMA</th>\n",
       "      <th>JMA</th>\n",
       "      <th>CNR</th>\n",
       "      <th>High-top</th>\n",
       "      <th>Low-top</th>\n",
       "    </tr>\n",
       "  </thead>\n",
       "  <tbody>\n",
       "    <tr>\n",
       "      <th>0</th>\n",
       "      <td>Models</td>\n",
       "      <td>19.25</td>\n",
       "      <td>31.67</td>\n",
       "      <td>20.43</td>\n",
       "      <td>8.33</td>\n",
       "      <td>9.52</td>\n",
       "      <td>10</td>\n",
       "      <td>16.4</td>\n",
       "      <td>16.67</td>\n",
       "    </tr>\n",
       "  </tbody>\n",
       "</table>\n",
       "</div>"
      ],
      "text/plain": [
       "   Models  ECMWF   ECCC   UKMO   CMA   JMA  CNR  High-top  Low-top\n",
       "0  Models  19.25  31.67  20.43  8.33  9.52   10      16.4    16.67"
      ]
     },
     "execution_count": 5,
     "metadata": {},
     "output_type": "execute_result"
    }
   ],
   "source": [
    "avg_per_df"
   ]
  },
  {
   "cell_type": "code",
   "execution_count": 6,
   "id": "7858fcae-58e3-4280-8b5e-bc6682284ce1",
   "metadata": {},
   "outputs": [
    {
     "data": {
      "text/plain": [
       "Text(0, 0.5, 'Percentages')"
      ]
     },
     "execution_count": 6,
     "metadata": {},
     "output_type": "execute_result"
    },
    {
     "data": {
      "image/png": "[encoded data removed]",
      "text/plain": [
       "<Figure size 432x288 with 1 Axes>"
      ]
     },
     "metadata": {
      "needs_background": "light"
     },
     "output_type": "display_data"
    }
   ],
   "source": [
    "ax = per_df.plot.bar(x='Initialization', y=['ECMWF','UKMO','JMA', 'ECCC','CMA', 'CNR'], rot=0,\n",
    "                title='High-&Low-Top Model Hits at Start of Event', color=['orchid','purple','indigo','palegoldenrod','yellow', 'gold']) \n",
    "plt.xlabel('Initialization from Start of Event (Days)') \n",
    "plt.ylabel('Percentages')"
   ]
  },
  {
   "cell_type": "code",
   "execution_count": 7,
   "id": "9adb5f37-63ce-433e-b76e-2cf83dcd1b90",
   "metadata": {},
   "outputs": [],
   "source": [
    "ECMWF_mn = per_df['ECMWF'].mean()\n",
    "ECCC_mn = per_df['ECCC'].mean()\n",
    "UKMO_mn = per_df['UKMO'].mean()\n",
    "CMA_mn = per_df['CMA'].mean()\n",
    "JMA_mn = per_df['JMA'].mean()\n",
    "CNR_mn = per_df['CNR'].mean()\n",
    "ht_mn = (ECMWF_mn + UKMO_mn + JMA_mn)/3\n",
    "lt_mn = (ECCC_mn + CMA_mn + CNR_mn)/3"
   ]
  },
  {
   "cell_type": "code",
   "execution_count": 10,
   "id": "d8b2660a-a921-4a51-9312-04b77497456e",
   "metadata": {},
   "outputs": [
    {
     "name": "stdout",
     "output_type": "stream",
     "text": [
      "ECMWF:19.0\n",
      "ECCC:31.666666666666668\n",
      "UKMO:22.221666666666668\n",
      "CMA:8.333333333333334\n",
      "JMA:9.52\n",
      "CNR:10.0\n",
      "HT:16.913888888888888\n",
      "LT:16.666666666666668\n"
     ]
    }
   ],
   "source": [
    "print(f'ECMWF:{ECMWF_mn}')\n",
    "print(f'ECCC:{ECCC_mn}')\n",
    "print(f'UKMO:{UKMO_mn}')\n",
    "print(f'CMA:{CMA_mn}')\n",
    "print(f'JMA:{JMA_mn}')\n",
    "print(f'CNR:{CNR_mn}')\n",
    "print(f'HT:{ht_mn}')\n",
    "print(f'LT:{lt_mn}')"
   ]
  },
  {
   "cell_type": "code",
   "execution_count": 9,
   "id": "d54ee6a6-4828-458f-9f4b-7963bf50c398",
   "metadata": {},
   "outputs": [
    {
     "data": {
      "text/plain": [
       "Text(0, 0.5, 'Percentages')"
      ]
     },
     "execution_count": 9,
     "metadata": {},
     "output_type": "execute_result"
    },
    {
     "data": {
      "image/png": "[encoded data removed]",
      "text/plain": [
       "<Figure size 432x288 with 1 Axes>"
      ]
     },
     "metadata": {
      "needs_background": "light"
     },
     "output_type": "display_data"
    }
   ],
   "source": [
    "ax = avg_per_df.plot.bar(x='Models', y=['ECMWF','UKMO', 'JMA', 'ECCC','CMA', 'CNR'], rot=0,\n",
    "                title='Percentage of Hits per Model', color=['orchid','purple','indigo','palegoldenrod','yellow', 'gold'])\n",
    "plt.xlabel('') \n",
    "plt.ylabel('Percentages')"
   ]
  },
  {
   "cell_type": "code",
   "execution_count": 11,
   "id": "01851fb3-433a-4cae-b633-c3276362d46d",
   "metadata": {},
   "outputs": [
    {
     "data": {
      "text/plain": [
       "Text(0, 0.5, 'Percentages')"
      ]
     },
     "execution_count": 11,
     "metadata": {},
     "output_type": "execute_result"
    },
    {
     "data": {
      "image/png": "[encoded data removed]",
      "text/plain": [
       "<Figure size 432x288 with 1 Axes>"
      ]
     },
     "metadata": {
      "needs_background": "light"
     },
     "output_type": "display_data"
    }
   ],
   "source": [
    "ax = avg_per_df.plot.bar(x='Models', y=['High-top', 'Low-top'], rot=0, title='High-top vs. Low-Top Model Hits', \n",
    "                  color=['purple','yellow']) \n",
    "plt.xlabel('') \n",
    "plt.ylabel('Percentages')"
   ]
  },
  {
   "cell_type": "code",
   "execution_count": null,
   "id": "b63785e8-acde-4af8-a0eb-2a3a444d3725",
   "metadata": {},
   "outputs": [],
   "source": []
  }
 ],
 "metadata": {
  "kernelspec": {
   "display_name": "Python 3 August 2021 Environment",
   "language": "python",
   "name": "aug21"
  },
  "language_info": {
   "codemirror_mode": {
    "name": "ipython",
    "version": 3
   },
   "file_extension": ".py",
   "mimetype": "text/x-python",
   "name": "python",
   "nbconvert_exporter": "python",
   "pygments_lexer": "ipython3",
   "version": "3.8.10"
  }
 },
 "nbformat": 4,
 "nbformat_minor": 5
}
