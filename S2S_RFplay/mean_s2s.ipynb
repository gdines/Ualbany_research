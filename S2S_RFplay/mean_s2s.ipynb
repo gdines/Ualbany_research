{
 "cells": [
  {
   "cell_type": "code",
   "execution_count": 1,
   "id": "b5d8a459-94e4-406d-85a1-e861956ee839",
   "metadata": {},
   "outputs": [],
   "source": [
    "import xarray as xr\n",
    "import pandas as pd\n",
    "import numpy as np\n",
    "from metpy.units import units\n",
    "from metpy import calc as mpcalc\n",
    "import matplotlib\n",
    "import matplotlib.pyplot as plt\n",
    "from pathlib import Path\n",
    "import math\n",
    "import netCDF4\n",
    "from netCDF4 import Dataset\n",
    "from datetime import datetime, timedelta\n",
    "from cftime import num2date, date2num\n",
    "matplotlib.use('Agg')\n",
    "import cartopy.feature\n",
    "from cartopy.util import add_cyclic_point\n",
    "import cartopy.crs as ccrs\n",
    "import cartopy.feature as cfeature"
   ]
  },
  {
   "cell_type": "code",
   "execution_count": 2,
   "id": "436baa09-0f3b-4e7b-87d1-db557b9d3747",
   "metadata": {},
   "outputs": [],
   "source": [
    "gh_file = \"/home11/grad/2021/gd673524/research/gdines/data/ECMWF_gh_01252021.nc\"\n",
    "t_file = \"/home11/grad/2021/gd673524/research/gdines/data/ECMWF_t_01252021.nc\"\n",
    "u_file = \"/home11/grad/2021/gd673524/research/gdines/data/ECMWF_u_01252021.nc\"\n",
    "v_file = \"/home11/grad/2021/gd673524/research/gdines/data/ECMWF_v_01252021.nc\"\n",
    "w_file = \"/home11/grad/2021/gd673524/research/gdines/data/ECMWF_w_01252021.nc\"\n",
    "\n",
    "gh = Dataset(gh_file, mode='r')\n",
    "t = Dataset(t_file, mode='r')\n",
    "u = Dataset(u_file, mode='r')\n",
    "v = Dataset(v_file, mode='r')\n",
    "w = Dataset(w_file, mode='r')"
   ]
  },
  {
   "cell_type": "code",
   "execution_count": 3,
   "id": "898fa12e-22e8-47ed-800d-10e50d1ba3b0",
   "metadata": {},
   "outputs": [
    {
     "data": {
      "text/plain": [
       "<class 'netCDF4._netCDF4.Dataset'>\n",
       "root group (NETCDF3_64BIT_OFFSET data model, file format NETCDF3):\n",
       "    Conventions: CF-1.6\n",
       "    history: 2022-01-13 17:31:35 GMT by grib_to_netcdf-2.24.0: grib_to_netcdf /data/scratch/20220113-1720/6c/_mars-webmars-public-svc-green-003-6fe5cac1a363ec1525f54343b6cc9fd8-VNBmP5.grib -o /data/scratch/20220113-1720/5d/_grib2netcdf-webmars-public-svc-green-006-6fe5cac1a363ec1525f54343b6cc9fd8-jX9zk5.nc -utime\n",
       "    dimensions(sizes): longitude(240), latitude(121), level(10), number(10), time(940)\n",
       "    variables(dimensions): float32 longitude(longitude), float32 latitude(latitude), int32 level(level), int32 number(number), int32 time(time), int16 gh(time, number, level, latitude, longitude)\n",
       "    groups: "
      ]
     },
     "execution_count": 3,
     "metadata": {},
     "output_type": "execute_result"
    }
   ],
   "source": [
    "gh"
   ]
  },
  {
   "cell_type": "code",
   "execution_count": 26,
   "id": "246e39ca-f76e-4991-a1b3-353fc224e0cb",
   "metadata": {},
   "outputs": [],
   "source": [
    "#Calculating the Ensemble Means\n",
    "z_ensmn = np.mean(gh.variables['gh'], axis=1)\n",
    "t_ensmn = np.mean(t.variables['t'], axis=1)\n",
    "u_ensmn = np.mean(u.variables['u'], axis=1)\n",
    "v_ensmn = np.mean(v.variables['v'], axis=1)\n",
    "w_ensmn = np.mean(w.variables['w'], axis=1)\n"
   ]
  },
  {
   "cell_type": "code",
   "execution_count": 20,
   "id": "a2cac921-1ce4-4569-9fd1-7743044d54fc",
   "metadata": {},
   "outputs": [],
   "source": [
    "#Creating Variables\n",
    "lat = gh.variables['latitude'][:]\n",
    "lon = gh.variables['longitude'][:]\n",
    "level = gh.variables['level'][:] #<--Levels=[10,50,100,200,300,500,700,850,925,1000]\n",
    "time = gh.variables['time'][:]\n",
    "#time = np.asarray(times) <--unmasks array\n",
    "t_1loc = t_ensmn[:,5,1,1]\n",
    "#z_1loc = \n",
    "z_500 = np.asarray(z_ensmn[1,5,:,:])\n",
    "t_500 = np.asarray(t_ensmn[1,5,:,:])"
   ]
  },
  {
   "cell_type": "code",
   "execution_count": 21,
   "id": "5a332eee-9f01-4caf-b170-e51359b8161c",
   "metadata": {
    "tags": []
   },
   "outputs": [],
   "source": [
    "#Dealing with Time Variable\n",
    "dates = [datetime(1900,1,1)+n*timedelta(hours=24) for n in range(time.shape[0])]"
   ]
  },
  {
   "cell_type": "code",
   "execution_count": 25,
   "id": "11ba50e7-f384-4772-8220-7165e74be6e0",
   "metadata": {},
   "outputs": [],
   "source": [
    "fig = plt.figure(figsize=(15,12))\n",
    "fig, ax = plt.subplots(1, 1)\n",
    "\n",
    "# Create a time series of 500hPa Temperatures for 1 location \n",
    "ax.plot(dates, t_1loc, color='tab:red')\n",
    "ax.set_title('Ensemble Mean 500-hPa Temps at 1 pt')\n",
    "ax.set_xlabel ('Time')\n",
    "ax.set_ylabel ('Temp (K)')\n",
    "ax.set_ylim(215,250)\n",
    "ax.tick_params(axis='x', labelrotation = 90)\n",
    "\n",
    "plt.show()"
   ]
  },
  {
   "cell_type": "markdown",
   "id": "521d6ad0-2136-46d7-8f8f-96558da5d0eb",
   "metadata": {},
   "source": [
    "Ignore below this point! Haven't finished working out issues."
   ]
  },
  {
   "cell_type": "code",
   "execution_count": null,
   "id": "f5dec19b-a916-4fb5-93de-6d926737d10c",
   "metadata": {},
   "outputs": [],
   "source": [
    "plt.Figure(figsize=(15,15),dpi=120)    ## <---Set fig size here!\n",
    "\n",
    "#Set plot as an orthographic projection looking down at the Earth from the pole with 0˚ at 6-oclock\n",
    "ax = plt.axes(projection=ccrs.Orthographic(0,90))     \n",
    "ax.add_feature(cartopy.feature.LAND, zorder=1, edgecolor='dimgray',facecolor='none')\n",
    "#ax.outline_patch.set_edgecolor('none')\n",
    "gl = ax.gridlines(color=\"grey\",linestyle=\":\",linewidth=0.5)  \n",
    "glevs = range(300,600,60)  ## <---set contour interval for geo. heights\n",
    "tlevs = range(0,400,4)        ## <--- set contour interval for temp\n",
    "[x,y] = np.meshgrid(lon,lat)  ## <--- set lat/lon as coords on grid\n",
    "        \n",
    "plt.title(\"500-hPa Geopotential Height & Temp\")\n",
    "hghtplot = ax.contour(x,y,z_500,glevs,transform=ccrs.PlateCarree(),extend='both',colors='black',linewidth=1.0)\n",
    "ax.clabel(hghtplot, inline=True, fmt=\"%.0f\", fontsize=8)\n",
    "tempplot = ax.contourf(x,y,t_500,tlevs,transform=ccrs.PlateCarree(),cmap=\"cool\")\n",
    "plt.colorbar(tempplot)\n",
    "\n",
    "#plot_label = times[d].strftime(\"%Y%m%d%H\")\n",
    "plt.show()\n"
   ]
  },
  {
   "cell_type": "code",
   "execution_count": null,
   "id": "e373b61a-42c2-4664-a771-8b06d527ca02",
   "metadata": {},
   "outputs": [],
   "source": [
    "# Areal extent\n",
    "latN = 37\n",
    "latS = 26\n",
    "lonW = -105\n",
    "lonE = -92\n",
    "latRange = np.arange(latS-5,latN+5,.25) # expand the data range a bit beyond the plot range\n",
    "lonRange = np.arange((lonW-5+360),(lonE+5+360),.25) # Need to match longitude values to those of the coordinate variable"
   ]
  },
  {
   "cell_type": "code",
   "execution_count": null,
   "id": "a6ead768-2583-4c8a-ab12-57a5af0d6212",
   "metadata": {},
   "outputs": [],
   "source": [
    "#Creating Map projection and setting resolution\n",
    "cLon = -95\n",
    "cLat = 31.5\n",
    "proj_map = ccrs.LambertConformal(central_longitude=cLon, central_latitude=cLat)\n",
    "proj_data = ccrs.PlateCarree()\n",
    "res = '50m'\n",
    "\n",
    "fig = plt.figure(figsize=(15,15))\n",
    "ax = plt.subplot(1,1,1,projection=proj_map)\n",
    "ax.set_extent ([lonW,lonE,latS,latN])\n",
    "ax.add_feature(cfeature.COASTLINE.with_scale(res))\n",
    "ax.add_feature(cfeature.STATES.with_scale(res))\n",
    "CF = ax.contourf(lon,lat,t_500, tlevs,transform=proj_data,cmap=plt.get_cmap('coolwarm'))\n",
    "cbar = plt.colorbar(CF,shrink=0.5)\n",
    "cbar.ax.tick_params(labelsize=16)\n",
    "#cbar.ax.set_ylabel(f\"500-hPa Heights and Temperatures\",fontsize=16)\n",
    "CL = ax.contour(lon,lat,z_500,glevs,transform=proj_data,linewidths=1.25,colors='black')\n",
    "ax.clabel(CL, inline_spacing=0.2, fontsize=11)\n",
    "\n",
    "title = plt.title(f\"500-hPa Heights and Temperatures\",fontsize=16)\n",
    "fig.tight_layout()\n",
    "fig.show()"
   ]
  },
  {
   "cell_type": "code",
   "execution_count": null,
   "id": "6ca19f32-25bc-4974-940f-feb49830ffb0",
   "metadata": {},
   "outputs": [],
   "source": []
  }
 ],
 "metadata": {
  "kernelspec": {
   "display_name": "Python 3 August 2021 Environment",
   "language": "python",
   "name": "aug21"
  },
  "language_info": {
   "codemirror_mode": {
    "name": "ipython",
    "version": 3
   },
   "file_extension": ".py",
   "mimetype": "text/x-python",
   "name": "python",
   "nbconvert_exporter": "python",
   "pygments_lexer": "ipython3",
   "version": "3.8.10"
  }
 },
 "nbformat": 4,
 "nbformat_minor": 5
}
