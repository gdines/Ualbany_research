{
 "cells": [
  {
   "cell_type": "code",
   "execution_count": 1,
   "id": "auburn-disclaimer",
   "metadata": {},
   "outputs": [],
   "source": [
    "import datetime as dt\n",
    "import numpy as np\n",
    "import matplotlib\n",
    "matplotlib.use('Agg')\n",
    "import matplotlib.pyplot as plt\n",
    "import cartopy.feature\n",
    "from cartopy.util import add_cyclic_point\n",
    "import cartopy.crs as ccrs\n",
    "import xarray as xr\n",
    "import math\n",
    "import netCDF4\n"
   ]
  },
  {
   "cell_type": "code",
   "execution_count": 2,
   "id": "settled-medicare",
   "metadata": {},
   "outputs": [],
   "source": [
    "## first, lets set some info about the times, level, etc., we want to plot\n",
    "\n",
    "lev2plot = 500           #\n",
    "\n",
    "year = 2021    \n",
    "climoyr = 1980\n",
    "month = 2\n",
    "day = 1\n",
    "total_days = 1           # how many days are we plotting?\n",
    "first_fhr = 0            # setting to 0 = 00 UTC, 6 = 06 UTC, ...\n",
    "hours = total_days * 24  # total hours in time range to plot\n",
    "hr_inc = 24               # the delta time for the data\n",
    "\n",
    "date1 = dt.datetime(year,month,day,0)  # first date to plot\n",
    "datec = dt.datetime(climoyr,month,day,0)  # first date to plot\n",
    "\n",
    "#create an array of times we want to plot...\n",
    "times = [date1 + dt.timedelta(hours=x) for x in range(0,hours,hr_inc)]\n",
    "ctimes = [datec + dt.timedelta(hours=x) for x in range(0,hours,hr_inc)]\n",
    "#...and put them in the correct time units \"hours since 00 UTC 1 Jan 1800 \"\n",
    "date_list = netCDF4.date2num(times,units=\"hours since 1900-01-01 00:00:00\",calendar=\"gregorian\") #change dates to netcdf times\n",
    "Cdate_list = netCDF4.date2num(ctimes,units=\"hours since 1900-01-01 00:00:00\",calendar=\"gregorian\") #change dates to netcdf times\n"
   ]
  },
  {
   "cell_type": "code",
   "execution_count": 3,
   "id": "literary-lounge",
   "metadata": {},
   "outputs": [],
   "source": [
    "# Lets open our data file and get out data\n",
    "\n",
    "# climo data is in /erai/climo/mean/VAR.nc and /erai/climo/stdev/VAR.nc\n",
    "\n",
    "\n",
    "gfile = xr.open_dataset(\"/al11/andrea/teaching/atm525/era5_202102_g.nc\")  ##Feb 2021 Z file\n",
    "g_var = gfile[\"z\"]\n",
    "g_data  = (g_var.loc[dict(level=lev2plot,latitude=slice(90.,0) )]) / 9.81 ## div by gravity to get geopot. height\n",
    "\n",
    "gcfile = xr.open_dataset(\"/langlab_rit/era5/z5dMean_00z.nc\")  ##Climo mean of Z file\n",
    "gc_var = gcfile[\"z\"]\n",
    "gc_data  = (gc_var.loc[dict(level=lev2plot,latitude=slice(90.,0) )]) / 9.81 ## div by gravity to get geopot. height\n",
    "\n",
    "gsdfile = xr.open_dataset(\"/langlab_rit/era5/z5dStd_00z.nc\")  ##Standard deviation of Z file\n",
    "gsd_var = gsdfile[\"zstd\"]\n",
    "gsd_data  = (gsd_var.loc[dict(level=lev2plot,latitude=slice(90.,0) )]) / 9.81 ## div by gravity to get geopot. height\n",
    "\n",
    "## convert 0 to 360 longitude to -180 to 180 to match the 2021 data for plotting/doing calculations\n",
    "gc_data = gc_data.assign_coords({\"longitude\": (((gc_data.longitude + 180.) % 360.) - 180.)})  \n",
    "gc_data = gc_data.sortby(gc_data.longitude)\n",
    "gsd_data = gsd_data.assign_coords({\"longitude\": (((gsd_data.longitude + 180.) % 360.) - 180.)})\n",
    "gsd_data = gsd_data.sortby(gsd_data.longitude)\n",
    "\n",
    "lev = g_data[\"level\"].values\n",
    "lat = g_data[\"latitude\"].values\n",
    "lon = g_data[\"longitude\"].values\n",
    "\n",
    "\n"
   ]
  },
  {
   "cell_type": "code",
   "execution_count": 4,
   "id": "available-finger",
   "metadata": {
    "tags": []
   },
   "outputs": [
    {
     "name": "stdout",
     "output_type": "stream",
     "text": [
      "Coordinates:\n",
      "  * longitude  (longitude) float32 -180.0 -179.75 -179.5 ... 179.25 179.5 179.75\n",
      "  * latitude   (latitude) float32 90.0 89.75 89.5 89.25 ... 0.75 0.5 0.25 0.0\n",
      "    level      int32 500\n",
      "    time       datetime64[ns] 2021-02-01\n",
      "Coordinates:\n",
      "    time       datetime64[ns] 1980-02-01\n",
      "    level      int32 500\n",
      "  * latitude   (latitude) float32 90.0 89.75 89.5 89.25 ... 0.75 0.5 0.25 0.0\n",
      "  * longitude  (longitude) float32 -180.0 -179.75 -179.5 ... 179.25 179.5 179.75\n",
      "Date 00 UTC 01 Feb 2021\n"
     ]
    },
    {
     "name": "stderr",
     "output_type": "stream",
     "text": [
      "/kt11/ktyle/anaconda3_2001/envs/jun20/lib/python3.7/site-packages/ipykernel_launcher.py:19: DeprecationWarning: The outline_patch property is deprecated. Use GeoAxes.spines['geo'] or the default Axes properties instead.\n",
      "/kt11/ktyle/anaconda3_2001/envs/jun20/lib/python3.7/site-packages/cartopy/mpl/geoaxes.py:1478: UserWarning: The following kwargs were not used by contour: 'linewidth'\n",
      "  result = matplotlib.axes.Axes.contour(self, *args, **kwargs)\n"
     ]
    }
   ],
   "source": [
    "for date in date_list: #loop through each day \n",
    "    ind = np.where(date_list == date)[0]\n",
    "    for d in ind:\n",
    "        height = g_data.loc[dict(time=times[d] )]\n",
    "        climohght = gc_data.loc[dict(time=ctimes[d] )]\n",
    "        stdhght = gsd_data.loc[dict(time=ctimes[d] )]\n",
    "        print(height.coords)\n",
    "        print(climohght.coords)\n",
    "        anoms = (height - climohght) / stdhght  ## calculate the standardized geo. height anom.\n",
    "                \n",
    "        print(\"Date \"+times[d].strftime(\"%H UTC %d %b %Y\"))\n",
    "        valid_label = (times[d].strftime(\"Valid: %H UTC %d %b %Y\"))\n",
    "\n",
    "        plt.Figure(figsize=(15,15),dpi=120)    ## <---Set fig size here!\n",
    "\n",
    "        #Set plot as an orthographic projection looking down at the Earth from the pole with 0˚ at 6-oclock\n",
    "        ax = plt.axes(projection=ccrs.Orthographic(0,90))     \n",
    "        ax.add_feature(cartopy.feature.LAND, zorder=1, edgecolor='dimgray',facecolor='none')\n",
    "        ax.outline_patch.set_edgecolor('none')\n",
    "        gl = ax.gridlines(color=\"grey\",linestyle=\":\",linewidth=0.5)  \n",
    "        glevs = range(1000,8000,100)  ## <---set contour interval for geo. heights\n",
    "        \n",
    "\n",
    "        [x,y] = np.meshgrid(lon,lat)  ## <--- set lat/lon as coords on grid\n",
    "        \n",
    "        plt.title(str(lev2plot)+\"hPa Geopotential Height & Temp \\n\"+valid_label)\n",
    "        hghtplot = ax.contour(x,y,height,glevs,transform=ccrs.PlateCarree(),extend='both',colors='black',linewidth=0.8)\n",
    "        ax.clabel(hghtplot, inline=True, fmt=\"%.0f\", fontsize=8)\n",
    "        \n",
    "        cmap = matplotlib.cm.bwr  ##<--- color map to use\n",
    "        norm = matplotlib.colors.Normalize(vmin=-5, vmax=5)    ##<---min/max for standardized anom/ ±4 sigma might work\n",
    "        anomlevs = np.arange(-4.,4.,.25)\n",
    "\n",
    "        p2plot = ax.contourf(x,y,anoms,anomlevs,transform=ccrs.PlateCarree(), cmap=cmap, norm=norm, alpha=1)\n",
    "        plt.colorbar(matplotlib.cm.ScalarMappable(norm=norm, cmap=cmap), label=\"Standardized Height Anomaly\", alpha=1)\n",
    "\n",
    "        plot_label = times[d].strftime(\"%Y%m%d%H\")\n",
    "        plt.savefig(f\"{plot_label}_{lev2plot}hpaANOM.png\",format='png')\n",
    "        plt.clf()\n",
    "        "
   ]
  },
  {
   "cell_type": "code",
   "execution_count": null,
   "id": "planned-queen",
   "metadata": {},
   "outputs": [],
   "source": []
  }
 ],
 "metadata": {
  "kernelspec": {
   "display_name": "Python 3 June 2020 Environment",
   "language": "python",
   "name": "jun20"
  },
  "language_info": {
   "codemirror_mode": {
    "name": "ipython",
    "version": 3
   },
   "file_extension": ".py",
   "mimetype": "text/x-python",
   "name": "python",
   "nbconvert_exporter": "python",
   "pygments_lexer": "ipython3",
   "version": "3.7.6"
  },
  "toc-autonumbering": true,
  "toc-showcode": false,
  "toc-showmarkdowntxt": true
 },
 "nbformat": 4,
 "nbformat_minor": 5
}
