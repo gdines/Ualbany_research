{
 "cells": [
  {
   "cell_type": "code",
   "execution_count": 1,
   "id": "crucial-match",
   "metadata": {},
   "outputs": [],
   "source": [
    "import datetime as dt\n",
    "import numpy as np\n",
    "import matplotlib\n",
    "matplotlib.use('Agg')\n",
    "import matplotlib.pyplot as plt\n",
    "import cartopy.feature\n",
    "from cartopy.util import add_cyclic_point\n",
    "import cartopy.crs as ccrs\n",
    "import xarray as xr\n",
    "import math\n",
    "import netCDF4\n"
   ]
  },
  {
   "cell_type": "code",
   "execution_count": 2,
   "id": "behind-ethernet",
   "metadata": {},
   "outputs": [],
   "source": [
    "## first, lets set some info about the times, level, etc., we want to plot\n",
    "\n",
    "lev2plot = 500           #\n",
    "\n",
    "\n",
    "year = 2019          \n",
    "month = 2\n",
    "day = 1\n",
    "total_days = 1           # how many days are we plotting?\n",
    "first_fhr = 0            # setting to 0 = 00 UTC, 6 = 06 UTC, ...\n",
    "hours = total_days * 24  # total hours in time range to plot\n",
    "hr_inc = 6               # the delta time for the data\n",
    "\n",
    "date1 = dt.datetime(year,month,day,0)  # first date to plot\n",
    "\n",
    "#create an array of times we want to plot...\n",
    "times = [date1 + dt.timedelta(hours=x) for x in range(0,hours,hr_inc)]\n",
    "#...and put them in the correct time units \"hours since 00 UTC 1 Jan 1800 \"\n",
    "date_list = netCDF4.date2num(times,units=\"hours since 1800-01-01 00:00:00\",calendar=\"gregorian\") #change dates to netcdf times\n"
   ]
  },
  {
   "cell_type": "code",
   "execution_count": 3,
   "id": "joined-sellers",
   "metadata": {},
   "outputs": [],
   "source": [
    "# Lets open our data file and get out data\n",
    "# data is in /erai/YYYY/VAR.nc\n",
    "# climo data is in /erai/climo/mean/VAR.nc and /erai/climo/stdev/VAR.nc\n",
    "\n",
    "\n",
    "gfile = xr.open_dataset(\"/erai/\"+str(year)+\"/pt_pv.\"+str(year)+\".nc\")  ##Change to your data/file\n",
    "g_var = gfile[\"pt_pv\"]\n",
    "g_data  = (g_var.loc[dict(lat=slice(0,90))]) ##\n",
    "\n",
    "\n",
    "pfile = xr.open_dataset(\"/erai/\"+str(year)+\"/pmsl.\"+str(year)+\".nc\")  ##Change to your data/file\n",
    "p_var = pfile[\"pmsl\"]\n",
    "p_data  = (p_var.loc[dict(lat=slice(0,90) )]) / 100. ##\n",
    "\n",
    "\n",
    "lat = g_data[\"lat\"].values\n",
    "lon = g_data[\"lon\"].values"
   ]
  },
  {
   "cell_type": "code",
   "execution_count": 4,
   "id": "correct-quarterly",
   "metadata": {
    "tags": []
   },
   "outputs": [
    {
     "name": "stdout",
     "output_type": "stream",
     "text": [
      "Coordinates:\n",
      "    time     datetime64[ns] 2019-02-01\n",
      "  * lat      (lat) float32 0.35087654 1.0526296 1.7543826 ... 88.76695 89.46282\n",
      "  * lon      (lon) float32 0.0 0.703125 1.40625 ... 358.59375 359.29688\n",
      "Date 00 UTC 01 Feb 2019\n"
     ]
    },
    {
     "name": "stderr",
     "output_type": "stream",
     "text": [
      "/kt11/ktyle/anaconda3_2001/envs/jun20/lib/python3.7/site-packages/ipykernel_launcher.py:16: DeprecationWarning: The outline_patch property is deprecated. Use GeoAxes.spines['geo'] or the default Axes properties instead.\n",
      "  app.launch_new_instance()\n",
      "/kt11/ktyle/anaconda3_2001/envs/jun20/lib/python3.7/site-packages/cartopy/mpl/geoaxes.py:1478: UserWarning: The following kwargs were not used by contour: 'linewidth'\n",
      "  result = matplotlib.axes.Axes.contour(self, *args, **kwargs)\n"
     ]
    },
    {
     "name": "stdout",
     "output_type": "stream",
     "text": [
      "Coordinates:\n",
      "    time     datetime64[ns] 2019-02-01T06:00:00\n",
      "  * lat      (lat) float32 0.35087654 1.0526296 1.7543826 ... 88.76695 89.46282\n",
      "  * lon      (lon) float32 0.0 0.703125 1.40625 ... 358.59375 359.29688\n",
      "Date 06 UTC 01 Feb 2019\n",
      "Coordinates:\n",
      "    time     datetime64[ns] 2019-02-01T12:00:00\n",
      "  * lat      (lat) float32 0.35087654 1.0526296 1.7543826 ... 88.76695 89.46282\n",
      "  * lon      (lon) float32 0.0 0.703125 1.40625 ... 358.59375 359.29688\n",
      "Date 12 UTC 01 Feb 2019\n",
      "Coordinates:\n",
      "    time     datetime64[ns] 2019-02-01T18:00:00\n",
      "  * lat      (lat) float32 0.35087654 1.0526296 1.7543826 ... 88.76695 89.46282\n",
      "  * lon      (lon) float32 0.0 0.703125 1.40625 ... 358.59375 359.29688\n",
      "Date 18 UTC 01 Feb 2019\n"
     ]
    }
   ],
   "source": [
    "for date in date_list: #loop through each day \n",
    "    ind = np.where(date_list == date)[0]\n",
    "    for d in ind:\n",
    "        pt_dt = g_data.loc[dict(time=times[d] )]\n",
    "        pmsl = p_data.loc[dict(time=times[d] )]\n",
    "        print(pt_dt.coords)\n",
    "        \n",
    "        print(\"Date \"+times[d].strftime(\"%H UTC %d %b %Y\"))\n",
    "        valid_label = (times[d].strftime(\"Valid: %H UTC %d %b %Y\"))\n",
    "\n",
    "        plt.Figure(figsize=(17,17),dpi=170)    ## <---Set fig size here!\n",
    "\n",
    "        #Set plot as an orthographic projection looking down at the Earth from the pole with 0˚ at 6-oclock\n",
    "        ax = plt.axes(projection=ccrs.Orthographic(-90,90))  ## <-- (lon and lat for map center)   \n",
    "        ax.add_feature(cartopy.feature.LAND, zorder=1, edgecolor='dimgray',facecolor='none', linewidth=0.7)\n",
    "        ax.outline_patch.set_edgecolor('none')\n",
    "        gl = ax.gridlines(color=\"grey\",linestyle=\":\",linewidth=0.5)  \n",
    "        glevs = range(950,1080,10)  ## <---set contour interval for geo. heights\n",
    "\n",
    "        [x,y] = np.meshgrid(lon,lat)  ## <--- set lat/lon as coords on grid\n",
    "        \n",
    "        plt.title(\"Dynamic Tropopause Potential Temp & PMSL \\n\"+valid_label)\n",
    "        p1plot = ax.contour(x,y,pmsl,glevs,transform=ccrs.PlateCarree(),extend='both',colors='black',linewidth=1)\n",
    "        ax.clabel(p1plot, inline=True, fmt=\"%.0f\", fontsize=7)\n",
    "        \n",
    "        cmap = matplotlib.cm.plasma  ##<--- color map to use\n",
    "        norm = matplotlib.colors.Normalize(vmin=250, vmax=450)    ##<---min/max for PMSL\n",
    "\n",
    "        p2plot = ax.contourf(x,y,pt_dt,100,transform=ccrs.PlateCarree(),cmap=cmap, alpha=0.5)\n",
    "        plt.colorbar(matplotlib.cm.ScalarMappable(norm=norm, cmap=cmap), label=\"Potential Temperature (K)\", alpha=.5)\n",
    "        \n",
    "        plot_label = times[d].strftime(\"%Y%m%d%H\")\n",
    "        plt.savefig(f\"{plot_label}_DTpmsl.png\",format='png')\n",
    "        plt.clf()\n",
    "        "
   ]
  },
  {
   "cell_type": "code",
   "execution_count": null,
   "id": "cubic-antigua",
   "metadata": {},
   "outputs": [],
   "source": []
  },
  {
   "cell_type": "code",
   "execution_count": null,
   "id": "dietary-cathedral",
   "metadata": {},
   "outputs": [],
   "source": []
  }
 ],
 "metadata": {
  "kernelspec": {
   "display_name": "Python 3 June 2020 Environment",
   "language": "python",
   "name": "jun20"
  },
  "language_info": {
   "codemirror_mode": {
    "name": "ipython",
    "version": 3
   },
   "file_extension": ".py",
   "mimetype": "text/x-python",
   "name": "python",
   "nbconvert_exporter": "python",
   "pygments_lexer": "ipython3",
   "version": "3.7.6"
  }
 },
 "nbformat": 4,
 "nbformat_minor": 5
}
