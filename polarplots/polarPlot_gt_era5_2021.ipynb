{
 "cells": [
  {
   "cell_type": "code",
   "execution_count": 1,
   "id": "nonprofit-africa",
   "metadata": {},
   "outputs": [],
   "source": [
    "import datetime as dt\n",
    "import numpy as np\n",
    "import matplotlib\n",
    "matplotlib.use('Agg')\n",
    "import matplotlib.pyplot as plt\n",
    "import cartopy.feature\n",
    "from cartopy.util import add_cyclic_point\n",
    "import cartopy.crs as ccrs\n",
    "import xarray as xr\n",
    "import math\n",
    "import netCDF4\n",
    "from pathlib import Path\n",
    "import requests"
   ]
  },
  {
   "cell_type": "code",
   "execution_count": 2,
   "id": "34bd3a69",
   "metadata": {},
   "outputs": [],
   "source": [
    "ds_urlg = 'https://rda.ucar.edu/thredds/dodsC/files/g/ds633.0/e5.oper.an.pl/202102/e5.oper.an.pl.128_129_z.ll025sc.2021021400_2021021423.nc'\n",
    "ds_urlt = 'https://rda.ucar.edu/thredds/dodsC/files/g/ds633.0/e5.oper.an.pl/202102/e5.oper.an.pl.128_130_t.ll025sc.2021021400_2021021423.nc'"
   ]
  },
  {
   "cell_type": "code",
   "execution_count": 3,
   "id": "d88d7dae",
   "metadata": {},
   "outputs": [],
   "source": [
    "HOME = str(Path.home())\n",
    "credFile = open(HOME+'/.rdarc','r')\n",
    "userId, pw = credFile.read().split()"
   ]
  },
  {
   "cell_type": "code",
   "execution_count": 4,
   "id": "8f6b7939",
   "metadata": {},
   "outputs": [],
   "source": [
    "## first, lets set some info about the times, level, etc., we want to plot\n",
    "\n",
    "lev2plot = 500           #\n",
    "\n",
    "\n",
    "year = 2021          \n",
    "month = 2\n",
    "day = 14\n",
    "total_days = 1           # how many days are we plotting?\n",
    "first_fhr = 0            # setting to 0 = 00 UTC, 6 = 06 UTC, ...\n",
    "hours = total_days * 24  # total hours in time range to plot\n",
    "hr_inc = 6               # the delta time for the data\n",
    "\n",
    "date1 = dt.datetime(year,month,day,0)  # first date to plot\n",
    "\n",
    "#create an array of times we want to plot...\n",
    "times = [date1 + dt.timedelta(hours=x) for x in range(0,hours,hr_inc)]\n",
    "#...and put them in the correct time units \"hours since 00 UTC 1 Jan 1800 \"\n",
    "date_list = netCDF4.date2num(times,units=\"hours since 1900-01-01 00:00:00\",calendar=\"gregorian\") #change dates to netcdf times\n"
   ]
  },
  {
   "cell_type": "code",
   "execution_count": 5,
   "id": "incorporate-norway",
   "metadata": {},
   "outputs": [
    {
     "name": "stdout",
     "output_type": "stream",
     "text": [
      "Coordinates:\n",
      "  * latitude   (latitude) float64 90.0 89.75 89.5 89.25 ... 0.75 0.5 0.25 0.0\n",
      "    level      float64 500.0\n",
      "  * longitude  (longitude) float64 0.0 0.25 0.5 0.75 ... 359.0 359.2 359.5 359.8\n",
      "  * time       (time) datetime64[ns] 2021-02-14 ... 2021-02-14T23:00:00\n"
     ]
    }
   ],
   "source": [
    "# Lets open our data file and get out data\n",
    "\n",
    "# climo data is in /erai/climo/mean/VAR.nc and /erai/climo/stdev/VAR.nc\n",
    "session = requests.Session()\n",
    "session.auth = (userId, pw)\n",
    "\n",
    "store_g = xr.backends.PydapDataStore.open(ds_urlg, session=session)\n",
    "store_t = xr.backends.PydapDataStore.open(ds_urlt, session=session)\n",
    "\n",
    "gfile = xr.open_dataset(store_g)  ##Change to your data/file\n",
    "g_var = gfile[\"Z\"]\n",
    "g_data  = (g_var.loc[dict(level=lev2plot,latitude=slice(90.,0) )]) / 9.81 ## div by gravity to get geopot. height\n",
    "\n",
    "tfile = xr.open_dataset(store_t)\n",
    "t_var = tfile[\"T\"]\n",
    "t_data  = (t_var.loc[dict(level=lev2plot,latitude=slice(90.,0) )]) \n",
    "print(g_data.coords)\n",
    "lev = g_data[\"level\"].values\n",
    "lat = g_data[\"latitude\"].values\n",
    "lon = g_data[\"longitude\"].values\n",
    "\n"
   ]
  },
  {
   "cell_type": "code",
   "execution_count": 6,
   "id": "congressional-burlington",
   "metadata": {
    "tags": []
   },
   "outputs": [
    {
     "name": "stdout",
     "output_type": "stream",
     "text": [
      "Coordinates:\n",
      "  * latitude   (latitude) float64 90.0 89.75 89.5 89.25 ... 0.75 0.5 0.25 0.0\n",
      "    level      float64 500.0\n",
      "  * longitude  (longitude) float64 0.0 0.25 0.5 0.75 ... 359.0 359.2 359.5 359.8\n",
      "    time       datetime64[ns] 2021-02-14\n",
      "Date 00 UTC 14 Feb 2021\n"
     ]
    },
    {
     "name": "stderr",
     "output_type": "stream",
     "text": [
      "/kt11/ktyle/anaconda3_2001/envs/jun20/lib/python3.7/site-packages/ipykernel_launcher.py:16: DeprecationWarning: The outline_patch property is deprecated. Use GeoAxes.spines['geo'] or the default Axes properties instead.\n",
      "  app.launch_new_instance()\n",
      "/kt11/ktyle/anaconda3_2001/envs/jun20/lib/python3.7/site-packages/cartopy/mpl/geoaxes.py:1478: UserWarning: The following kwargs were not used by contour: 'linewidth'\n",
      "  result = matplotlib.axes.Axes.contour(self, *args, **kwargs)\n"
     ]
    },
    {
     "name": "stdout",
     "output_type": "stream",
     "text": [
      "Coordinates:\n",
      "  * latitude   (latitude) float64 90.0 89.75 89.5 89.25 ... 0.75 0.5 0.25 0.0\n",
      "    level      float64 500.0\n",
      "  * longitude  (longitude) float64 0.0 0.25 0.5 0.75 ... 359.0 359.2 359.5 359.8\n",
      "    time       datetime64[ns] 2021-02-14T06:00:00\n",
      "Date 06 UTC 14 Feb 2021\n",
      "Coordinates:\n",
      "  * latitude   (latitude) float64 90.0 89.75 89.5 89.25 ... 0.75 0.5 0.25 0.0\n",
      "    level      float64 500.0\n",
      "  * longitude  (longitude) float64 0.0 0.25 0.5 0.75 ... 359.0 359.2 359.5 359.8\n",
      "    time       datetime64[ns] 2021-02-14T12:00:00\n",
      "Date 12 UTC 14 Feb 2021\n",
      "Coordinates:\n",
      "  * latitude   (latitude) float64 90.0 89.75 89.5 89.25 ... 0.75 0.5 0.25 0.0\n",
      "    level      float64 500.0\n",
      "  * longitude  (longitude) float64 0.0 0.25 0.5 0.75 ... 359.0 359.2 359.5 359.8\n",
      "    time       datetime64[ns] 2021-02-14T18:00:00\n",
      "Date 18 UTC 14 Feb 2021\n"
     ]
    }
   ],
   "source": [
    "for date in date_list: #loop through each day \n",
    "    ind = np.where(date_list == date)[0]\n",
    "    for d in ind:\n",
    "        height = g_data.loc[dict(time=times[d] )]\n",
    "        temperature = t_data.loc[dict(time=times[d] )]\n",
    "        print(height.coords)\n",
    "        \n",
    "        print(\"Date \"+times[d].strftime(\"%H UTC %d %b %Y\"))\n",
    "        valid_label = (times[d].strftime(\"Valid: %H UTC %d %b %Y\"))\n",
    "\n",
    "        plt.Figure(figsize=(15,15),dpi=120)    ## <---Set fig size here!\n",
    "\n",
    "        #Set plot as an orthographic projection looking down at the Earth from the pole with 0˚ at 6-oclock\n",
    "        ax = plt.axes(projection=ccrs.Orthographic(0,90))     \n",
    "        ax.add_feature(cartopy.feature.LAND, zorder=1, edgecolor='dimgray',facecolor='none')\n",
    "        ax.outline_patch.set_edgecolor('none')\n",
    "        gl = ax.gridlines(color=\"grey\",linestyle=\":\",linewidth=0.5)  \n",
    "        glevs = range(1000,8000,100)  ## <---set contour interval for geo. heights\n",
    "        tlevs = range(0,400,4)        ## <--- set contour interval for temp\n",
    "        [x,y] = np.meshgrid(lon,lat)  ## <--- set lat/lon as coords on grid\n",
    "        \n",
    "        plt.title(str(lev2plot)+\"hPa Geopotential Height & Temp \\n\"+valid_label)\n",
    "        hghtplot = ax.contour(x,y,height,glevs,transform=ccrs.PlateCarree(),extend='both',colors='black',linewidth=1.0)\n",
    "        ax.clabel(hghtplot, inline=True, fmt=\"%.0f\", fontsize=8)\n",
    "        tempplot = ax.contourf(x,y,temperature,100,transform=ccrs.PlateCarree(),cmap=\"cool\")\n",
    "        plt.colorbar(tempplot)\n",
    "\n",
    "        plot_label = times[d].strftime(\"%Y%m%d%H\")\n",
    "        plt.savefig(f\"{plot_label}_{lev2plot}hpa.png\",format='png')\n",
    "        plt.clf()\n",
    "        "
   ]
  },
  {
   "cell_type": "code",
   "execution_count": null,
   "id": "increasing-board",
   "metadata": {},
   "outputs": [],
   "source": []
  }
 ],
 "metadata": {
  "kernelspec": {
   "display_name": "Python 3 June 2020 Environment",
   "language": "python",
   "name": "jun20"
  },
  "language_info": {
   "codemirror_mode": {
    "name": "ipython",
    "version": 3
   },
   "file_extension": ".py",
   "mimetype": "text/x-python",
   "name": "python",
   "nbconvert_exporter": "python",
   "pygments_lexer": "ipython3",
   "version": "3.7.6"
  }
 },
 "nbformat": 4,
 "nbformat_minor": 5
}
