{
 "cells": [
  {
   "cell_type": "code",
   "execution_count": 1,
   "id": "b0d933c3-532d-43e9-919e-558ed662c5f5",
   "metadata": {},
   "outputs": [],
   "source": [
    "import xarray as xr\n",
    "import pandas as pd\n",
    "import numpy as np\n",
    "import xesmf as xe\n",
    "import netCDF4\n",
    "from netCDF4 import Dataset\n",
    "from datetime import datetime, date, timedelta"
   ]
  },
  {
   "cell_type": "code",
   "execution_count": 2,
   "id": "cb0ef567-cf63-45e8-aac3-1e7c71258cc0",
   "metadata": {},
   "outputs": [],
   "source": [
    "#Opening Realtime data with ERA5 files\n",
    "jan_t_ds = xr.open_dataset('/langlab_rit/andrea/ERA5data/era5_202101_t.nc')\n",
    "feb_t_ds = xr.open_dataset('/langlab_rit/andrea/ERA5data/era5_202102_t.nc')\n",
    "jan_u_ds = xr.open_dataset('/langlab_rit/andrea/ERA5data/era5_202101_u.nc')\n",
    "feb_u_ds = xr.open_dataset('/langlab_rit/andrea/ERA5data/era5_202102_u.nc')\n",
    "jan_v_ds = xr.open_dataset('/langlab_rit/andrea/ERA5data/era5_202101_v.nc')\n",
    "feb_v_ds = xr.open_dataset('/langlab_rit/andrea/ERA5data/era5_202102_v.nc')\n",
    "jan_g_ds = xr.open_dataset('/langlab_rit/andrea/ERA5data/era5_202101_g.nc')\n",
    "feb_g_ds = xr.open_dataset('/langlab_rit/andrea/ERA5data/era5_202102_g.nc')\n",
    "jan_pv_ds = xr.open_dataset('/langlab_rit/andrea/ERA5data/era5_202101_pv.nc')\n",
    "feb_pv_ds = xr.open_dataset('/langlab_rit/andrea/ERA5data/era5_202102_pv.nc')"
   ]
  },
  {
   "cell_type": "code",
   "execution_count": 3,
   "id": "1ae32b96-52eb-43fa-a490-6a50779db5fa",
   "metadata": {},
   "outputs": [
    {
     "data": {
      "text/plain": [
       "xESMF Regridder \n",
       "Regridding algorithm:       bilinear \n",
       "Weight filename:            bilinear_401x1440_121x240.nc \n",
       "Reuse pre-computed weights? False \n",
       "Input grid shape:           (401, 1440) \n",
       "Output grid shape:          (121, 240) \n",
       "Periodic in longitude?      False"
      ]
     },
     "execution_count": 3,
     "metadata": {},
     "output_type": "execute_result"
    }
   ],
   "source": [
    "#Regridding ERA5 data using xesmf\n",
    "\n",
    "ds_out = xr.Dataset(\n",
    "    {\n",
    "        \"lon\": ([\"lon\"], np.arange(0, 360, 1.5)),\n",
    "        \"lat\": ([\"lat\"], np.arange(-90, 91.5, 1.5)),\n",
    "    }\n",
    ")\n",
    "\n",
    "regridder = xe.Regridder(jan_t_ds, ds_out, \"bilinear\")\n",
    "regridder"
   ]
  },
  {
   "cell_type": "code",
   "execution_count": 4,
   "id": "ec9cba64-7556-4c69-9fd1-3bc3a570638e",
   "metadata": {},
   "outputs": [],
   "source": [
    "jan_t_rgrd = regridder(jan_t_ds)\n",
    "feb_t_rgrd = regridder(feb_t_ds)\n",
    "jan_u_rgrd = regridder(jan_u_ds)\n",
    "feb_u_rgrd = regridder(feb_u_ds)\n",
    "jan_v_rgrd = regridder(jan_v_ds)\n",
    "feb_v_rgrd = regridder(feb_v_ds)\n",
    "jan_g_rgrd = regridder(jan_g_ds)\n",
    "feb_g_rgrd = regridder(feb_g_ds)\n",
    "jan_pv_rgrd = regridder(jan_pv_ds)\n",
    "feb_pv_rgrd = regridder(feb_pv_ds)"
   ]
  },
  {
   "cell_type": "code",
   "execution_count": 5,
   "id": "e654c7c1-f9cc-46f6-a73b-7d6d6eeacede",
   "metadata": {},
   "outputs": [],
   "source": [
    "t_ds = xr.concat([jan_t_rgrd, feb_t_rgrd], dim='time')\n",
    "u_ds = xr.concat([jan_u_rgrd, feb_u_rgrd], dim='time')\n",
    "v_ds = xr.concat([jan_v_rgrd, feb_v_rgrd], dim='time')\n",
    "g_ds = xr.concat([jan_g_rgrd, feb_g_rgrd], dim='time')\n",
    "pv_ds = xr.concat([jan_pv_rgrd, feb_pv_rgrd], dim='time')"
   ]
  },
  {
   "cell_type": "code",
   "execution_count": 7,
   "id": "b942f63a-1597-4afe-8f8b-dcc92a00911d",
   "metadata": {},
   "outputs": [],
   "source": [
    "#Lat/lons wanted for NH\n",
    "lat_min = 20\n",
    "lat_max = 80\n",
    "lon_max = 300\n",
    "lon_min = 200\n",
    "\n",
    "levels_wanted = [1, 10, 50, 100, 250, 500, 700, 850, 1000]"
   ]
  },
  {
   "cell_type": "code",
   "execution_count": 8,
   "id": "166af97f-7212-4bb7-8499-d1b00ce711b9",
   "metadata": {},
   "outputs": [],
   "source": [
    "t_rd = t_ds.sel(lat=slice(lat_min,lat_max), lon=slice(lon_min,lon_max), level=levels_wanted)\n",
    "u_rd = u_ds.sel(lat=slice(lat_min,lat_max), lon=slice(lon_min,lon_max), level=levels_wanted)\n",
    "v_rd = v_ds.sel(lat=slice(lat_min,lat_max), lon=slice(lon_min,lon_max), level=levels_wanted)\n",
    "g_rd = g_ds.sel(lat=slice(lat_min,lat_max), lon=slice(lon_min,lon_max), level=levels_wanted)\n",
    "pv_rd = pv_ds.sel(lat=slice(lat_min,lat_max), lon=slice(lon_min,lon_max), level=levels_wanted)"
   ]
  },
  {
   "cell_type": "code",
   "execution_count": 9,
   "id": "5254bdf9-ce3f-4658-8fa3-2ebe569cca79",
   "metadata": {},
   "outputs": [],
   "source": [
    "t_rd_0z = t_ds.sel(lat=slice(lat_min,lat_max), lon=slice(lon_min,lon_max), level=levels_wanted, time=t_ds.time.dt.hour == 0)\n",
    "u_rd_0z = u_ds.sel(lat=slice(lat_min,lat_max), lon=slice(lon_min,lon_max), level=levels_wanted, time=u_ds.time.dt.hour == 0)\n",
    "v_rd_0z = v_ds.sel(lat=slice(lat_min,lat_max), lon=slice(lon_min,lon_max), level=levels_wanted, time=v_ds.time.dt.hour == 0)\n",
    "g_rd_0z = g_ds.sel(lat=slice(lat_min,lat_max), lon=slice(lon_min,lon_max), level=levels_wanted, time=g_ds.time.dt.hour == 0)\n",
    "pv_rd_0z = pv_ds.sel(lat=slice(lat_min,lat_max), lon=slice(lon_min,lon_max), level=levels_wanted, time=pv_ds.time.dt.hour == 0)"
   ]
  },
  {
   "cell_type": "code",
   "execution_count": 10,
   "id": "7fe2cee4-bef1-4488-be95-2c72f4742a9d",
   "metadata": {},
   "outputs": [],
   "source": [
    "t_rd_ds = t_rd.to_netcdf(path=\"/home11/grad/2021/gd673524/research/gdines/data/ERA5_rd/t_rd.nc\",\n",
    "                         mode='w')\n",
    "u_rd_ds = u_rd.to_netcdf(path=\"/home11/grad/2021/gd673524/research/gdines/data/ERA5_rd/u_rd.nc\",\n",
    "                         mode='w')\n",
    "v_rd_ds = v_rd.to_netcdf(path=\"/home11/grad/2021/gd673524/research/gdines/data/ERA5_rd/v_rd.nc\",\n",
    "                         mode='w')\n",
    "g_rd_ds = g_rd.to_netcdf(path=\"/home11/grad/2021/gd673524/research/gdines/data/ERA5_rd/g_rd.nc\",\n",
    "                         mode='w')\n",
    "pv_rd_ds = pv_rd.to_netcdf(path=\"/home11/grad/2021/gd673524/research/gdines/data/ERA5_rd/pv_rd.nc\",\n",
    "                         mode='w')"
   ]
  },
  {
   "cell_type": "code",
   "execution_count": null,
   "id": "0b079065-5fcd-4ac8-b76e-a6cc57e2c22f",
   "metadata": {},
   "outputs": [],
   "source": []
  }
 ],
 "metadata": {
  "kernelspec": {
   "display_name": "Python 3 August 2022 Environment",
   "language": "python",
   "name": "aug22"
  },
  "language_info": {
   "codemirror_mode": {
    "name": "ipython",
    "version": 3
   },
   "file_extension": ".py",
   "mimetype": "text/x-python",
   "name": "python",
   "nbconvert_exporter": "python",
   "pygments_lexer": "ipython3",
   "version": "3.10.5"
  }
 },
 "nbformat": 4,
 "nbformat_minor": 5
}
